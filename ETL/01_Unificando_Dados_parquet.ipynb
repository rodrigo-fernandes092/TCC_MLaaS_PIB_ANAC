{
  "cells": [
    {
      "cell_type": "markdown",
      "metadata": {
        "id": "LBwp2qGfCXQk"
      },
      "source": [
        "\n",
        "# Importando Bibliotecas"
      ]
    },
    {
      "cell_type": "code",
      "execution_count": 1,
      "metadata": {
        "id": "iJxgwQk9AnR-"
      },
      "outputs": [],
      "source": [
        "import pandas as pd\n",
        "import numpy as np\n",
        "import os # para acessar o diretorio e acessar os arquivos\n",
        "import zipfile\n",
        "import p\n",
        "import warnings\n",
        "warnings.filterwarnings(\"ignore\")"
      ]
    },
    {
      "cell_type": "markdown",
      "metadata": {
        "id": "MrpErUt7CbSA"
      },
      "source": [
        "# Carregando Dados do PIB\n",
        "\n",
        "\n"
      ]
    },
    {
      "cell_type": "code",
      "execution_count": 4,
      "metadata": {
        "id": "NRvxsxd3A810"
      },
      "outputs": [
        {
          "data": {
            "text/plain": [
              "(44501, 40)"
            ]
          },
          "execution_count": 4,
          "metadata": {},
          "output_type": "execute_result"
        }
      ],
      "source": [
        "#Carregando o primeiro arquivo PIB das cidades \n",
        "\n",
        "dir = 'C:/Users/rodri/Documents/GitHub/TCC_MBA/TCC_MBA_Modelo_Predicao_Passagens_Aereas/base_dados/PIB/raw/base_de_dados_2002_2009_xls.zip'\n",
        "zip_file = zipfile.ZipFile(dir,'r')\n",
        "xlfile = zip_file.open('PIB dos Municípios - base de dados 2002-2009.xls')\n",
        "df_pib_02_09 = pd.read_excel(xlfile)\n",
        "df_pib_02_09.shape"
      ]
    },
    {
      "cell_type": "code",
      "execution_count": 6,
      "metadata": {},
      "outputs": [
        {
          "data": {
            "text/plain": [
              "(66825, 43)"
            ]
          },
          "execution_count": 6,
          "metadata": {},
          "output_type": "execute_result"
        }
      ],
      "source": [
        "#Carregando o segundo arquivo PIB das cidades \n",
        "\n",
        "dir = 'C:/Users/rodri/Documents/GitHub/TCC_MBA/TCC_MBA_Modelo_Predicao_Passagens_Aereas/base_dados/PIB/raw/base_de_dados_2010_2021_xlsx.zip'\n",
        "zip_file = zipfile.ZipFile(dir,'r')\n",
        "xlfile = zip_file.open('PIB dos Municípios - base de dados 2010-2021.xlsx')\n",
        "df_pib_10_21 = pd.read_excel(xlfile)\n",
        "df_pib_10_21.shape"
      ]
    },
    {
      "cell_type": "markdown",
      "metadata": {},
      "source": [
        "## Unindo os dois datasets\n",
        "agora com os dois arquivos carregados, chegou na etapa de unificá-los"
      ]
    },
    {
      "cell_type": "code",
      "execution_count": 7,
      "metadata": {},
      "outputs": [
        {
          "data": {
            "text/plain": [
              "(111326, 43)"
            ]
          },
          "execution_count": 7,
          "metadata": {},
          "output_type": "execute_result"
        }
      ],
      "source": [
        "df_pib = pd.concat([df_pib_02_09,df_pib_10_21])\n",
        "df_pib.shape"
      ]
    },
    {
      "cell_type": "markdown",
      "metadata": {},
      "source": [
        "## Filtrando as colunas que serão deletadas."
      ]
    },
    {
      "cell_type": "code",
      "execution_count": 8,
      "metadata": {},
      "outputs": [],
      "source": [
        "colunas_ficam = ['Ano', \n",
        "       'Sigla da Unidade da Federação', 'Nome da Unidade da Federação',\n",
        "       'Nome do Município',\n",
        "       'Valor adicionado bruto da Agropecuária, /na preços correntes/n(R$ 1.000)',\n",
        "       'Valor adicionado bruto da Indústria,/na preços correntes/n(R$ 1.000)',\n",
        "       'Valor adicionado bruto dos Serviços,/na preços correntes /n- exceto Administração, defesa, educação e saúde públicas e seguridade social/n(R$ 1.000)',\n",
        "       'Valor adicionado bruto da Administração, defesa, educação e saúde públicas e seguridade social, /na preços correntes/n(R$ 1.000)',\n",
        "       'Valor adicionado bruto total, /na preços correntes/n(R$ 1.000)',\n",
        "       'Impostos, líquidos de subsídios, sobre produtos, /na preços correntes/n(R$ 1.000)',\n",
        "       'Produto Interno Bruto, /na preços correntes/n(R$ 1.000)',\n",
        "       'Produto Interno Bruto per capita, /na preços correntes/n(R$ 1,00)']\n"
      ]
    },
    {
      "cell_type": "code",
      "execution_count": 9,
      "metadata": {},
      "outputs": [],
      "source": [
        "\n",
        "colunas_todas = ['Ano', 'Código da Grande Região', 'Nome da Grande Região',\n",
        "       'Código da Unidade da Federação', 'Sigla da Unidade da Federação',\n",
        "       'Nome da Unidade da Federação', 'Código do Município',\n",
        "       'Nome do Município', 'Região Metropolitana', 'Código da Mesorregião',\n",
        "       'Nome da Mesorregião', 'Código da Microrregião', 'Nome da Microrregião',\n",
        "       'Código da Região Geográfica Imediata',\n",
        "       'Nome da Região Geográfica Imediata',\n",
        "       'Município da Região Geográfica Imediata',\n",
        "       'Código da Região Geográfica Intermediária',\n",
        "       'Nome da Região Geográfica Intermediária',\n",
        "       'Município da Região Geográfica Intermediária',\n",
        "       'Código Concentração Urbana', 'Nome Concentração Urbana',\n",
        "       'Tipo Concentração Urbana', 'Código Arranjo Populacional',\n",
        "       'Nome Arranjo Populacional', 'Hierarquia Urbana',\n",
        "       'Hierarquia Urbana (principais categorias)', 'Código da Região Rural',\n",
        "       'Nome da Região Rural',\n",
        "       'Região rural (segundo classificação do núcleo)', 'Amazônia Legal',\n",
        "       'Semiárido', 'Cidade-Região de São Paulo',\n",
        "       'Valor adicionado bruto da Agropecuária, /na preços correntes/n(R$ 1.000)',\n",
        "       'Valor adicionado bruto da Indústria,/na preços correntes/n(R$ 1.000)',\n",
        "       'Valor adicionado bruto dos Serviços,/na preços correntes /n- exceto Administração, defesa, educação e saúde públicas e seguridade social/n(R$ 1.000)',\n",
        "       'Valor adicionado bruto da Administração, defesa, educação e saúde públicas e seguridade social, /na preços correntes/n(R$ 1.000)',\n",
        "       'Valor adicionado bruto total, /na preços correntes/n(R$ 1.000)',\n",
        "       'Impostos, líquidos de subsídios, sobre produtos, /na preços correntes/n(R$ 1.000)',\n",
        "       'Produto Interno Bruto, /na preços correntes/n(R$ 1.000)',\n",
        "       'Produto Interno Bruto per capita, /na preços correntes/n(R$ 1,00)',\n",
        "       'Atividade com maior valor adicionado bruto',\n",
        "       'Atividade com segundo maior valor adicionado bruto',\n",
        "       'Atividade com terceiro maior valor adicionado bruto']"
      ]
    },
    {
      "cell_type": "code",
      "execution_count": 10,
      "metadata": {},
      "outputs": [
        {
          "data": {
            "text/plain": [
              "(111326, 12)"
            ]
          },
          "execution_count": 10,
          "metadata": {},
          "output_type": "execute_result"
        }
      ],
      "source": [
        "# Deletando as colunas desnecessárias\n",
        "\n",
        "colunas_saem = list(set(colunas_todas) - set(colunas_ficam))\n",
        "df_pib.drop(columns=colunas_saem, inplace= True)\n",
        "\n",
        "df_pib.shape"
      ]
    },
    {
      "cell_type": "markdown",
      "metadata": {
        "id": "UgZmQXZAqpHt"
      },
      "source": [
        "## Renomeando as colunas"
      ]
    },
    {
      "cell_type": "code",
      "execution_count": 11,
      "metadata": {
        "id": "AEs4RFNQRG_P"
      },
      "outputs": [],
      "source": [
        "colunas_renomeadas =  [ 'Ano',\n",
        "       'Nome_UF',\n",
        "       'Cod_Cidade',\n",
        "       'Nome_Cidade',\n",
        "       'Valor_Agropecuaria',\n",
        "       'Valor_Industria',\n",
        "       'Valor_Servicos',\n",
        "       'Governo',\n",
        "       'Total',\n",
        "       'Impostos',\n",
        "       'PIB',\n",
        "       'PIB_per_capita']"
      ]
    },
    {
      "cell_type": "code",
      "execution_count": 12,
      "metadata": {},
      "outputs": [
        {
          "data": {
            "text/plain": [
              "list"
            ]
          },
          "execution_count": 12,
          "metadata": {},
          "output_type": "execute_result"
        }
      ],
      "source": [
        "type(colunas_renomeadas)"
      ]
    },
    {
      "cell_type": "code",
      "execution_count": 13,
      "metadata": {
        "id": "P6oK_MRfREed"
      },
      "outputs": [
        {
          "data": {
            "text/html": [
              "<div>\n",
              "<style scoped>\n",
              "    .dataframe tbody tr th:only-of-type {\n",
              "        vertical-align: middle;\n",
              "    }\n",
              "\n",
              "    .dataframe tbody tr th {\n",
              "        vertical-align: top;\n",
              "    }\n",
              "\n",
              "    .dataframe thead th {\n",
              "        text-align: right;\n",
              "    }\n",
              "</style>\n",
              "<table border=\"1\" class=\"dataframe\">\n",
              "  <thead>\n",
              "    <tr style=\"text-align: right;\">\n",
              "      <th></th>\n",
              "      <th>Ano</th>\n",
              "      <th>Nome_UF</th>\n",
              "      <th>Cod_Cidade</th>\n",
              "      <th>Nome_Cidade</th>\n",
              "      <th>Valor_Agropecuaria</th>\n",
              "      <th>Valor_Industria</th>\n",
              "      <th>Valor_Servicos</th>\n",
              "      <th>Governo</th>\n",
              "      <th>Total</th>\n",
              "      <th>Impostos</th>\n",
              "      <th>PIB</th>\n",
              "      <th>PIB_per_capita</th>\n",
              "    </tr>\n",
              "  </thead>\n",
              "  <tbody>\n",
              "    <tr>\n",
              "      <th>0</th>\n",
              "      <td>2002</td>\n",
              "      <td>RO</td>\n",
              "      <td>Rondônia</td>\n",
              "      <td>Alta Floresta D'Oeste</td>\n",
              "      <td>27013.223</td>\n",
              "      <td>9376.871</td>\n",
              "      <td>24651.113</td>\n",
              "      <td>42700.523</td>\n",
              "      <td>103741.729</td>\n",
              "      <td>7549.266</td>\n",
              "      <td>111290.995</td>\n",
              "      <td>4047.83</td>\n",
              "    </tr>\n",
              "    <tr>\n",
              "      <th>1</th>\n",
              "      <td>2002</td>\n",
              "      <td>RO</td>\n",
              "      <td>Rondônia</td>\n",
              "      <td>Ariquemes</td>\n",
              "      <td>28590.178</td>\n",
              "      <td>99922.936</td>\n",
              "      <td>161851.549</td>\n",
              "      <td>116562.182</td>\n",
              "      <td>406926.845</td>\n",
              "      <td>42665.972</td>\n",
              "      <td>449592.816</td>\n",
              "      <td>5667.37</td>\n",
              "    </tr>\n",
              "    <tr>\n",
              "      <th>2</th>\n",
              "      <td>2002</td>\n",
              "      <td>RO</td>\n",
              "      <td>Rondônia</td>\n",
              "      <td>Cabixi</td>\n",
              "      <td>10883.801</td>\n",
              "      <td>1961.907</td>\n",
              "      <td>5128.876</td>\n",
              "      <td>11925.001</td>\n",
              "      <td>29899.585</td>\n",
              "      <td>1867.935</td>\n",
              "      <td>31767.520</td>\n",
              "      <td>4246.99</td>\n",
              "    </tr>\n",
              "    <tr>\n",
              "      <th>3</th>\n",
              "      <td>2002</td>\n",
              "      <td>RO</td>\n",
              "      <td>Rondônia</td>\n",
              "      <td>Cacoal</td>\n",
              "      <td>32810.376</td>\n",
              "      <td>98292.764</td>\n",
              "      <td>175748.703</td>\n",
              "      <td>117968.303</td>\n",
              "      <td>424820.146</td>\n",
              "      <td>49622.951</td>\n",
              "      <td>474443.097</td>\n",
              "      <td>6353.27</td>\n",
              "    </tr>\n",
              "    <tr>\n",
              "      <th>4</th>\n",
              "      <td>2002</td>\n",
              "      <td>RO</td>\n",
              "      <td>Rondônia</td>\n",
              "      <td>Cerejeiras</td>\n",
              "      <td>11283.793</td>\n",
              "      <td>6651.475</td>\n",
              "      <td>25306.009</td>\n",
              "      <td>27731.366</td>\n",
              "      <td>70972.643</td>\n",
              "      <td>8200.971</td>\n",
              "      <td>79173.614</td>\n",
              "      <td>4442.47</td>\n",
              "    </tr>\n",
              "  </tbody>\n",
              "</table>\n",
              "</div>"
            ],
            "text/plain": [
              "    Ano Nome_UF Cod_Cidade            Nome_Cidade  Valor_Agropecuaria  \\\n",
              "0  2002      RO   Rondônia  Alta Floresta D'Oeste           27013.223   \n",
              "1  2002      RO   Rondônia              Ariquemes           28590.178   \n",
              "2  2002      RO   Rondônia                 Cabixi           10883.801   \n",
              "3  2002      RO   Rondônia                 Cacoal           32810.376   \n",
              "4  2002      RO   Rondônia             Cerejeiras           11283.793   \n",
              "\n",
              "   Valor_Industria  Valor_Servicos     Governo       Total   Impostos  \\\n",
              "0         9376.871       24651.113   42700.523  103741.729   7549.266   \n",
              "1        99922.936      161851.549  116562.182  406926.845  42665.972   \n",
              "2         1961.907        5128.876   11925.001   29899.585   1867.935   \n",
              "3        98292.764      175748.703  117968.303  424820.146  49622.951   \n",
              "4         6651.475       25306.009   27731.366   70972.643   8200.971   \n",
              "\n",
              "          PIB  PIB_per_capita  \n",
              "0  111290.995         4047.83  \n",
              "1  449592.816         5667.37  \n",
              "2   31767.520         4246.99  \n",
              "3  474443.097         6353.27  \n",
              "4   79173.614         4442.47  "
            ]
          },
          "execution_count": 13,
          "metadata": {},
          "output_type": "execute_result"
        }
      ],
      "source": [
        "df_pib.columns = colunas_renomeadas\n",
        "\n",
        "df_pib.head(5)"
      ]
    },
    {
      "cell_type": "markdown",
      "metadata": {},
      "source": [
        "# Carregando os dados das Passagens Aéreas"
      ]
    },
    {
      "cell_type": "code",
      "execution_count": 14,
      "metadata": {},
      "outputs": [],
      "source": [
        "# defindo o caminho\n",
        "\n",
        "dir_name = 'C:/Users/rodri/Documents/GitHub/TCC_MBA/TCC_MBA_Modelo_Predicao_Passagens_Aereas/base_dados/PassagensAereas/raw'"
      ]
    },
    {
      "cell_type": "markdown",
      "metadata": {},
      "source": [
        "## Unindo as bases de dados das Passagens Aéreas"
      ]
    },
    {
      "cell_type": "code",
      "execution_count": 15,
      "metadata": {},
      "outputs": [
        {
          "data": {
            "text/plain": [
              "252"
            ]
          },
          "execution_count": 15,
          "metadata": {},
          "output_type": "execute_result"
        }
      ],
      "source": [
        "lista_arquivos = []\n",
        "\n",
        "for arq in os.listdir(dir_name):\n",
        "  if arq.endswith(\".CSV\"):\n",
        "    lista_arquivos.append(arq)\n",
        "\n",
        "len(lista_arquivos)"
      ]
    },
    {
      "cell_type": "code",
      "execution_count": 16,
      "metadata": {},
      "outputs": [
        {
          "data": {
            "text/plain": [
              "63"
            ]
          },
          "execution_count": 16,
          "metadata": {},
          "output_type": "execute_result"
        }
      ],
      "source": [
        "n = 4\n",
        "\n",
        "sub_lista_arquivos = [lista_arquivos[i::n] for i in range(n)]\n",
        "\n",
        "len(sub_lista_arquivos[0])"
      ]
    },
    {
      "cell_type": "code",
      "execution_count": 17,
      "metadata": {},
      "outputs": [],
      "source": [
        "#Separando as Listas para leitura \n",
        "\n",
        "lista_teste_0 = sub_lista_arquivos[0]\n",
        "\n",
        "lista_teste_01 = sub_lista_arquivos[1]\n",
        "\n",
        "lista_teste_02 = sub_lista_arquivos[2]\n",
        "\n",
        "lista_teste_03 = sub_lista_arquivos[3]\n"
      ]
    },
    {
      "cell_type": "code",
      "execution_count": 18,
      "metadata": {},
      "outputs": [
        {
          "data": {
            "text/plain": [
              "(14022521, 7)"
            ]
          },
          "execution_count": 18,
          "metadata": {},
          "output_type": "execute_result"
        }
      ],
      "source": [
        "dt_passagens_0 = pd.DataFrame()\n",
        "\n",
        "for arq in lista_teste_0:\n",
        "    nome_arquivo = \"//\" + arq\n",
        "    nome_df = pd.read_csv(dir_name+nome_arquivo,\n",
        "                        sep = ';',\n",
        "                        encoding='latin1',\n",
        "                        header=0,\n",
        "                        names=['Ano','Mes','Empresa','Origem',\n",
        "                               'Destino','Tarifa','Assentos'] )\n",
        "    dt_passagens_0 = pd.concat([dt_passagens_0,nome_df])\n",
        "\n",
        "\n",
        "dt_passagens_0.shape"
      ]
    },
    {
      "cell_type": "code",
      "execution_count": 19,
      "metadata": {},
      "outputs": [
        {
          "data": {
            "text/plain": [
              "(13649939, 7)"
            ]
          },
          "execution_count": 19,
          "metadata": {},
          "output_type": "execute_result"
        }
      ],
      "source": [
        "dt_passagens_01 = pd.DataFrame()\n",
        "\n",
        "for arq in lista_teste_01:\n",
        "    nome_arquivo = \"//\" + arq\n",
        "    nome_df = pd.read_csv(dir_name+nome_arquivo,\n",
        "                        sep = ';',\n",
        "                        encoding='latin1',\n",
        "                        header=0,\n",
        "                        names=['Ano','Mes','Empresa','Origem',\n",
        "                               'Destino','Tarifa','Assentos'] )\n",
        "    dt_passagens_01 = pd.concat([dt_passagens_01,nome_df])\n",
        "\n",
        "dt_passagens_01.shape"
      ]
    },
    {
      "cell_type": "code",
      "execution_count": 20,
      "metadata": {},
      "outputs": [
        {
          "data": {
            "text/plain": [
              "(14479724, 7)"
            ]
          },
          "execution_count": 20,
          "metadata": {},
          "output_type": "execute_result"
        }
      ],
      "source": [
        "dt_passagens_02 = pd.DataFrame()\n",
        "\n",
        "for arq in lista_teste_02:\n",
        "    nome_arquivo = \"//\" + arq\n",
        "    nome_df = pd.read_csv(dir_name+nome_arquivo,\n",
        "                        sep = ';',\n",
        "                        encoding='latin1',\n",
        "                        header=0,\n",
        "                        names=['Ano','Mes','Empresa','Origem',\n",
        "                               'Destino','Tarifa','Assentos'] )\n",
        "    dt_passagens_02 = pd.concat([dt_passagens_02,nome_df])\n",
        "    \n",
        "dt_passagens_02.shape"
      ]
    },
    {
      "cell_type": "code",
      "execution_count": 21,
      "metadata": {},
      "outputs": [
        {
          "data": {
            "text/plain": [
              "(13139468, 7)"
            ]
          },
          "execution_count": 21,
          "metadata": {},
          "output_type": "execute_result"
        }
      ],
      "source": [
        "dt_passagens_03 = pd.DataFrame()\n",
        "\n",
        "for arq in lista_teste_03:\n",
        "    nome_arquivo = \"//\" + arq\n",
        "    nome_df = pd.read_csv(dir_name+nome_arquivo,\n",
        "                        sep = ';',\n",
        "                        encoding='latin1',\n",
        "                        header=0,\n",
        "                        names=['Ano','Mes','Empresa','Origem',\n",
        "                               'Destino','Tarifa','Assentos'] )\n",
        "    dt_passagens_03 = pd.concat([dt_passagens_03,nome_df])\n",
        "\n",
        "dt_passagens_03.shape"
      ]
    },
    {
      "cell_type": "markdown",
      "metadata": {},
      "source": [
        "## Unificando em um único dataset"
      ]
    },
    {
      "cell_type": "code",
      "execution_count": 22,
      "metadata": {},
      "outputs": [
        {
          "data": {
            "text/plain": [
              "(55291652, 7)"
            ]
          },
          "execution_count": 22,
          "metadata": {},
          "output_type": "execute_result"
        }
      ],
      "source": [
        "dt_passagens = pd.DataFrame()\n",
        "\n",
        "dt_passagens = pd.concat([dt_passagens,dt_passagens_0,dt_passagens_01,dt_passagens_02,dt_passagens_03])\n",
        "\n",
        "dt_passagens.shape"
      ]
    },
    {
      "cell_type": "code",
      "execution_count": 23,
      "metadata": {},
      "outputs": [],
      "source": [
        "# Deletando variaveis\n",
        "del dt_passagens_0,dt_passagens_01,dt_passagens_02,dt_passagens_03, df_pib_02_09, df_pib_10_21"
      ]
    },
    {
      "cell_type": "code",
      "execution_count": 24,
      "metadata": {},
      "outputs": [
        {
          "data": {
            "text/html": [
              "<div>\n",
              "<style scoped>\n",
              "    .dataframe tbody tr th:only-of-type {\n",
              "        vertical-align: middle;\n",
              "    }\n",
              "\n",
              "    .dataframe tbody tr th {\n",
              "        vertical-align: top;\n",
              "    }\n",
              "\n",
              "    .dataframe thead th {\n",
              "        text-align: right;\n",
              "    }\n",
              "</style>\n",
              "<table border=\"1\" class=\"dataframe\">\n",
              "  <thead>\n",
              "    <tr style=\"text-align: right;\">\n",
              "      <th></th>\n",
              "      <th>Ano</th>\n",
              "      <th>Mes</th>\n",
              "      <th>Empresa</th>\n",
              "      <th>Origem</th>\n",
              "      <th>Destino</th>\n",
              "      <th>Tarifa</th>\n",
              "      <th>Assentos</th>\n",
              "    </tr>\n",
              "  </thead>\n",
              "  <tbody>\n",
              "    <tr>\n",
              "      <th>331370</th>\n",
              "      <td>2022</td>\n",
              "      <td>12</td>\n",
              "      <td>TAM</td>\n",
              "      <td>SWSI</td>\n",
              "      <td>SBVT</td>\n",
              "      <td>837,00</td>\n",
              "      <td>1</td>\n",
              "    </tr>\n",
              "    <tr>\n",
              "      <th>331371</th>\n",
              "      <td>2022</td>\n",
              "      <td>12</td>\n",
              "      <td>TAM</td>\n",
              "      <td>SWSI</td>\n",
              "      <td>SBVT</td>\n",
              "      <td>1395,00</td>\n",
              "      <td>1</td>\n",
              "    </tr>\n",
              "    <tr>\n",
              "      <th>331372</th>\n",
              "      <td>2022</td>\n",
              "      <td>12</td>\n",
              "      <td>TAM</td>\n",
              "      <td>SWSI</td>\n",
              "      <td>SBVT</td>\n",
              "      <td>1813,90</td>\n",
              "      <td>1</td>\n",
              "    </tr>\n",
              "    <tr>\n",
              "      <th>331373</th>\n",
              "      <td>2022</td>\n",
              "      <td>12</td>\n",
              "      <td>TAM</td>\n",
              "      <td>SWSI</td>\n",
              "      <td>SBVT</td>\n",
              "      <td>1866,00</td>\n",
              "      <td>1</td>\n",
              "    </tr>\n",
              "    <tr>\n",
              "      <th>331374</th>\n",
              "      <td>2022</td>\n",
              "      <td>12</td>\n",
              "      <td>TAM</td>\n",
              "      <td>SWSI</td>\n",
              "      <td>SBVT</td>\n",
              "      <td>1935,90</td>\n",
              "      <td>1</td>\n",
              "    </tr>\n",
              "  </tbody>\n",
              "</table>\n",
              "</div>"
            ],
            "text/plain": [
              "         Ano  Mes Empresa Origem Destino   Tarifa  Assentos\n",
              "331370  2022   12     TAM   SWSI    SBVT   837,00         1\n",
              "331371  2022   12     TAM   SWSI    SBVT  1395,00         1\n",
              "331372  2022   12     TAM   SWSI    SBVT  1813,90         1\n",
              "331373  2022   12     TAM   SWSI    SBVT  1866,00         1\n",
              "331374  2022   12     TAM   SWSI    SBVT  1935,90         1"
            ]
          },
          "execution_count": 24,
          "metadata": {},
          "output_type": "execute_result"
        }
      ],
      "source": [
        "dt_passagens.tail()"
      ]
    },
    {
      "cell_type": "markdown",
      "metadata": {},
      "source": [
        "## Salvando os arquivos em parquet"
      ]
    },
    {
      "cell_type": "code",
      "execution_count": 27,
      "metadata": {},
      "outputs": [],
      "source": [
        "#Salvando base de dados PIB em parquet\n",
        "\n",
        "df_pib.to_parquet(\n",
        "                path = 'C:/Users/rodri/Documents/GitHub/TCC_MLaaS_PIB_ANAC/base_dados/PIB/BaseDados_PIB_2009_2021.parquet.gzip',\n",
        "                  engine = 'pyarrow',\n",
        "                  compression='gzip')"
      ]
    },
    {
      "cell_type": "code",
      "execution_count": null,
      "metadata": {},
      "outputs": [],
      "source": [
        "#Salvando base de dados Passagens em parquet\n",
        "\n",
        "\n",
        "# dt_passagens.to_parquet(path = 'C:/Users/rodri/Documents/GitHub/TCC_MBA/TCC_MBA_Modelo_Predicao_Passagens_Aereas/base_dados/PassagensAereas/BaseDados_PassagensAereas.parquet.gzip',                        \n",
        "#                         engine='pyarrow',\n",
        "#                         compression='gzip')"
      ]
    }
  ],
  "metadata": {
    "colab": {
      "provenance": []
    },
    "kernelspec": {
      "display_name": "Python 3",
      "name": "python3"
    },
    "language_info": {
      "codemirror_mode": {
        "name": "ipython",
        "version": 3
      },
      "file_extension": ".py",
      "mimetype": "text/x-python",
      "name": "python",
      "nbconvert_exporter": "python",
      "pygments_lexer": "ipython3",
      "version": "3.12.3"
    }
  },
  "nbformat": 4,
  "nbformat_minor": 0
}
