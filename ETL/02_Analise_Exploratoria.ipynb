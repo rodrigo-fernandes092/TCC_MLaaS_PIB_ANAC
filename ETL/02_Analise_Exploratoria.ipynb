{
 "cells": [
  {
   "cell_type": "markdown",
   "metadata": {},
   "source": [
    "# Importando Bibliotecas"
   ]
  },
  {
   "cell_type": "code",
   "execution_count": 34,
   "metadata": {},
   "outputs": [],
   "source": [
    "import pandas as pd\n",
    "import numpy as np\n",
    "import matplotlib.pyplot as plt\n",
    "# import plotly.express as px\n",
    "\n",
    "import pyarrow as pa\n",
    "import pyarrow.parquet as pq\n",
    "\n",
    "from pyspark.sql import functions as F # Importando as funções sql \n",
    "from pyspark.sql.types import *"
   ]
  },
  {
   "cell_type": "markdown",
   "metadata": {},
   "source": [
    "## Criando Sessão Spark"
   ]
  },
  {
   "cell_type": "code",
   "execution_count": 35,
   "metadata": {},
   "outputs": [],
   "source": [
    "\n",
    "from pyspark.sql import SparkSession\n",
    "\n",
    "spark = SparkSession \\\n",
    "    .builder \\\n",
    "    .appName(\"Python Spark SQL basic example\") \\\n",
    "    .config(\"spark.some.config.option\", \"some-value\") \\\n",
    "    .getOrCreate()"
   ]
  },
  {
   "cell_type": "markdown",
   "metadata": {},
   "source": [
    "# PIB"
   ]
  },
  {
   "cell_type": "markdown",
   "metadata": {},
   "source": [
    "## Importando os Dados"
   ]
  },
  {
   "cell_type": "code",
   "execution_count": 36,
   "metadata": {},
   "outputs": [],
   "source": [
    "dir = '/workspaces/TCC_MLaaS_PIB_ANAC/base_dados/PIB/BaseDados_PIB_2009_2021.parquet.gzip'\n",
    "pib = spark.read.parquet(dir)\n"
   ]
  },
  {
   "cell_type": "markdown",
   "metadata": {},
   "source": [
    "## Explorando os Dados"
   ]
  },
  {
   "cell_type": "code",
   "execution_count": 37,
   "metadata": {},
   "outputs": [
    {
     "name": "stdout",
     "output_type": "stream",
     "text": [
      "root\n",
      " |-- Ano: long (nullable = true)\n",
      " |-- Nome_UF: string (nullable = true)\n",
      " |-- Cod_Cidade: string (nullable = true)\n",
      " |-- Nome_Cidade: string (nullable = true)\n",
      " |-- Valor_Agropecuaria: double (nullable = true)\n",
      " |-- Valor_Industria: double (nullable = true)\n",
      " |-- Valor_Servicos: double (nullable = true)\n",
      " |-- Governo: double (nullable = true)\n",
      " |-- Total: double (nullable = true)\n",
      " |-- Impostos: double (nullable = true)\n",
      " |-- PIB: double (nullable = true)\n",
      " |-- PIB_per_capita: double (nullable = true)\n",
      " |-- __index_level_0__: long (nullable = true)\n",
      "\n",
      "+----+-------+----------+--------------------+------------------+---------------+--------------+----------+----------+----------+-----------+--------------+-----------------+\n",
      "| Ano|Nome_UF|Cod_Cidade|         Nome_Cidade|Valor_Agropecuaria|Valor_Industria|Valor_Servicos|   Governo|     Total|  Impostos|        PIB|PIB_per_capita|__index_level_0__|\n",
      "+----+-------+----------+--------------------+------------------+---------------+--------------+----------+----------+----------+-----------+--------------+-----------------+\n",
      "|2002|     RO|  Rondônia|Alta Floresta D'O...|         27013.223|       9376.871|     24651.113| 42700.523|103741.729|  7549.266| 111290.995|       4047.83|                0|\n",
      "|2002|     RO|  Rondônia|           Ariquemes|         28590.178|      99922.936|    161851.549|116562.182|406926.845| 42665.972| 449592.816|       5667.37|                1|\n",
      "|2002|     RO|  Rondônia|              Cabixi|         10883.801|       1961.907|      5128.876| 11925.001| 29899.585|  1867.935|   31767.52|       4246.99|                2|\n",
      "|2002|     RO|  Rondônia|              Cacoal|         32810.376|      98292.764|    175748.703|117968.303|424820.146| 49622.951| 474443.097|       6353.27|                3|\n",
      "|2002|     RO|  Rondônia|          Cerejeiras|         11283.793|       6651.475|     25306.009| 27731.366| 70972.643|  8200.971|  79173.614|       4442.47|                4|\n",
      "|2002|     RO|  Rondônia|   Colorado do Oeste|         14250.128|      10881.687|     23802.929| 31210.022| 80144.765|   7108.81|  87253.575|       4253.57|                5|\n",
      "|2002|     RO|  Rondônia|          Corumbiara|         19766.726|        1918.67|      5504.377| 15639.582| 42829.355|  2335.486|  45164.841|       4493.57|                6|\n",
      "|2002|     RO|  Rondônia|       Costa Marques|          2892.688|       6970.584|      9632.396| 15798.095| 35293.762|  2014.608|   37308.37|       3664.15|                7|\n",
      "|2002|     RO|  Rondônia|     Espigão D'Oeste|         22722.863|      19138.662|     28829.369| 39044.156| 109735.05|  9576.488| 119311.538|       4516.81|                8|\n",
      "|2002|     RO|  Rondônia|       Guajará-Mirim|          5674.376|       9378.105|     66325.769| 60567.751|  141946.0| 32734.462| 174680.462|       4409.56|                9|\n",
      "|2002|     RO|  Rondônia|                Jaru|         33214.782|      53869.088|     95393.674| 84625.278|267102.821| 39054.757| 306157.578|       5604.51|               10|\n",
      "|2002|     RO|  Rondônia|           Ji-Paraná|         29941.105|     117048.094|     261028.18| 167387.58| 575404.96| 81994.971|  657399.93|       6009.96|               11|\n",
      "|2002|     RO|  Rondônia|  Machadinho D'Oeste|          10498.64|       10720.17|     18650.873| 38268.481| 78138.164|  5690.253|  83828.417|       3294.11|               12|\n",
      "|2002|     RO|  Rondônia|Nova Brasilândia ...|         13953.885|       6044.198|     13111.541| 28000.913| 61110.537|  4629.579|  65740.116|       3771.45|               13|\n",
      "|2002|     RO|  Rondônia| Ouro Preto do Oeste|         24904.747|      21038.733|     65047.842| 62375.313|173366.635| 18337.756| 191704.391|       4695.64|               14|\n",
      "|2002|     RO|  Rondônia|       Pimenta Bueno|         16376.706|      24636.488|     63130.395|   50281.1|154424.688| 25912.195| 180336.884|       5703.07|               15|\n",
      "|2002|     RO|  Rondônia|         Porto Velho|         49777.646|     435143.334|     956911.14| 545524.61|1987356.73|338316.361|2325673.091|       6594.74|               16|\n",
      "|2002|     RO|  Rondônia|   Presidente Médici|          17411.79|       7121.125|     22861.819| 39539.553| 86934.287|  6548.037|  93482.324|       3601.57|               17|\n",
      "|2002|     RO|  Rondônia|          Rio Crespo|          6483.577|        631.102|      1864.121|  5735.033| 14713.833|   835.611|  15549.444|       4865.28|               18|\n",
      "|2002|     RO|  Rondônia|      Rolim de Moura|         16226.213|      41642.283|     76648.834| 74916.671|209434.002| 21836.036| 231270.037|       4781.96|               19|\n",
      "+----+-------+----------+--------------------+------------------+---------------+--------------+----------+----------+----------+-----------+--------------+-----------------+\n",
      "only showing top 20 rows\n",
      "\n"
     ]
    }
   ],
   "source": [
    "\n",
    "pib.printSchema()\n",
    "\n",
    "pib.show()"
   ]
  },
  {
   "cell_type": "markdown",
   "metadata": {},
   "source": [
    "## Tratamento dos Dados"
   ]
  },
  {
   "cell_type": "code",
   "execution_count": 38,
   "metadata": {},
   "outputs": [],
   "source": [
    "# Deletando coluna desnecessária.\n",
    "pib = pib.drop('__index_level_0__')"
   ]
  },
  {
   "cell_type": "code",
   "execution_count": 39,
   "metadata": {},
   "outputs": [
    {
     "data": {
      "text/plain": [
       "['Ano',\n",
       " 'Nome_UF',\n",
       " 'Cod_Cidade',\n",
       " 'Nome_Cidade',\n",
       " 'Valor_Agropecuaria',\n",
       " 'Valor_Industria',\n",
       " 'Valor_Servicos',\n",
       " 'Governo',\n",
       " 'Total',\n",
       " 'Impostos',\n",
       " 'PIB',\n",
       " 'PIB_per_capita']"
      ]
     },
     "execution_count": 39,
     "metadata": {},
     "output_type": "execute_result"
    }
   ],
   "source": [
    "#Conferindo se foi excluída.\n",
    "pib.columns"
   ]
  },
  {
   "cell_type": "markdown",
   "metadata": {},
   "source": [
    "## Agrupando Valores"
   ]
  },
  {
   "cell_type": "code",
   "execution_count": 40,
   "metadata": {},
   "outputs": [],
   "source": [
    "\n",
    "g_pib = pib.groupBy(\"Ano\")\\\n",
    "        .agg((F.sum(\"Valor_Agropecuaria\")/F.lit(1_000_000_000)).alias('Agropecuaria'),\\\n",
    "             (F.sum('Valor_Industria')/F.lit(1_000_000_000)).alias('Industria'),\\\n",
    "             (F.sum('Valor_Servicos')/F.lit(1_000_000_000)).alias('Servicos'),\\\n",
    "             (F.sum('Governo')/F.lit(1_000_000_000)).alias('Governo'))\\\n",
    "        .orderBy(\"Ano\", ascending=True)\\\n",
    "        .toPandas()"
   ]
  },
  {
   "cell_type": "markdown",
   "metadata": {},
   "source": [
    "## Plotando o Gráfico do PIB"
   ]
  },
  {
   "cell_type": "code",
   "execution_count": 41,
   "metadata": {},
   "outputs": [
    {
     "data": {
      "application/vnd.plotly.v1+json": {
       "config": {
        "plotlyServerURL": "https://plot.ly"
       },
       "data": [
        {
         "hovertemplate": "variable=Agropecuaria<br>Ano=%{x}<br>value=%{y}<extra></extra>",
         "legendgroup": "Agropecuaria",
         "line": {
          "color": "#636efa",
          "dash": "solid"
         },
         "marker": {
          "symbol": "circle"
         },
         "mode": "lines",
         "name": "Agropecuaria",
         "orientation": "v",
         "showlegend": true,
         "type": "scatter",
         "x": [
          2002,
          2003,
          2004,
          2005,
          2006,
          2007,
          2008,
          2009,
          2010,
          2011,
          2012,
          2013,
          2014,
          2015,
          2016,
          2017,
          2018,
          2019,
          2020,
          2021
         ],
         "xaxis": "x",
         "y": [
          0.08151519896600007,
          0.10594916497299975,
          0.11091270301200022,
          0.10095754703600061,
          0.10529401098099996,
          0.12015171499699977,
          0.14205118198299996,
          0.1492126349959998,
          0.15993200000299992,
          0.19002399999899972,
          0.20069499999799956,
          0.24028999997999992,
          0.24997500000599962,
          0.25896699994000016,
          0.3066550000019999,
          0.30297099998900034,
          0.30961100002499975,
          0.310714000014001,
          0.43462099996,
          0.5910849999939994
         ],
         "yaxis": "y"
        },
        {
         "hovertemplate": "variable=Industria<br>Ano=%{x}<br>value=%{y}<extra></extra>",
         "legendgroup": "Industria",
         "line": {
          "color": "#EF553B",
          "dash": "solid"
         },
         "marker": {
          "symbol": "circle"
         },
         "mode": "lines",
         "name": "Industria",
         "orientation": "v",
         "showlegend": true,
         "type": "scatter",
         "x": [
          2002,
          2003,
          2004,
          2005,
          2006,
          2007,
          2008,
          2009,
          2010,
          2011,
          2012,
          2013,
          2014,
          2015,
          2016,
          2017,
          2018,
          2019,
          2020,
          2021
         ],
         "xaxis": "x",
         "y": [
          0.3349075700070003,
          0.39656854301700223,
          0.4758632179999995,
          0.5246862440069988,
          0.567281406011999,
          0.6290711709920014,
          0.7179071860360001,
          0.7292220750139994,
          0.9041580000209978,
          1.011034000004001,
          1.0656819999999994,
          1.1316260000120026,
          1.1830939999919994,
          1.160787000022999,
          1.1507200000119977,
          1.1977999999830011,
          1.3132099999979967,
          1.3858040000160021,
          1.4843369999860019,
          1.993799000013002
         ],
         "yaxis": "y"
        },
        {
         "hovertemplate": "variable=Servicos<br>Ano=%{x}<br>value=%{y}<extra></extra>",
         "legendgroup": "Servicos",
         "line": {
          "color": "#00cc96",
          "dash": "solid"
         },
         "marker": {
          "symbol": "circle"
         },
         "mode": "lines",
         "name": "Servicos",
         "orientation": "v",
         "showlegend": true,
         "type": "scatter",
         "x": [
          2002,
          2003,
          2004,
          2005,
          2006,
          2007,
          2008,
          2009,
          2010,
          2011,
          2012,
          2013,
          2014,
          2015,
          2016,
          2017,
          2018,
          2019,
          2020,
          2021
         ],
         "xaxis": "x",
         "y": [
          0.6444032140449987,
          0.7325436840389987,
          0.8155275830339996,
          0.9220447049929985,
          1.043094774977998,
          1.1931952209870003,
          1.3322966590259975,
          1.4841493059419992,
          1.700905000023002,
          1.921343999999,
          2.1757810000150037,
          2.4356569999950035,
          2.7228569999570014,
          2.8502599999640026,
          3.0173259999910007,
          3.1701799999730094,
          3.342943999980995,
          3.5540750000069985,
          3.529078999999997,
          3.910158999995001
         ],
         "yaxis": "y"
        },
        {
         "hovertemplate": "variable=Governo<br>Ano=%{x}<br>value=%{y}<extra></extra>",
         "legendgroup": "Governo",
         "line": {
          "color": "#ab63fa",
          "dash": "solid"
         },
         "marker": {
          "symbol": "circle"
         },
         "mode": "lines",
         "name": "Governo",
         "orientation": "v",
         "showlegend": true,
         "type": "scatter",
         "x": [
          2002,
          2003,
          2004,
          2005,
          2006,
          2007,
          2008,
          2009,
          2010,
          2011,
          2012,
          2013,
          2014,
          2015,
          2016,
          2017,
          2018,
          2019,
          2020,
          2021
         ],
         "xaxis": "x",
         "y": [
          0.20938868401999985,
          0.2356558419930009,
          0.2596786189840011,
          0.2951299059539997,
          0.33361978603100023,
          0.3771101739849991,
          0.43422268902500094,
          0.4871788060059981,
          0.5378449999540006,
          0.5980590000169994,
          0.6521010000049978,
          0.7461870000269991,
          0.8168080000059997,
          0.8855869999510031,
          0.9451209999869973,
          1.0009749999709983,
          1.045384999979997,
          1.1060909999860005,
          1.1469000000169995,
          1.218956000025001
         ],
         "yaxis": "y"
        }
       ],
       "layout": {
        "legend": {
         "title": {
          "text": "variable"
         },
         "tracegroupgap": 0
        },
        "template": {
         "data": {
          "bar": [
           {
            "error_x": {
             "color": "#2a3f5f"
            },
            "error_y": {
             "color": "#2a3f5f"
            },
            "marker": {
             "line": {
              "color": "#E5ECF6",
              "width": 0.5
             },
             "pattern": {
              "fillmode": "overlay",
              "size": 10,
              "solidity": 0.2
             }
            },
            "type": "bar"
           }
          ],
          "barpolar": [
           {
            "marker": {
             "line": {
              "color": "#E5ECF6",
              "width": 0.5
             },
             "pattern": {
              "fillmode": "overlay",
              "size": 10,
              "solidity": 0.2
             }
            },
            "type": "barpolar"
           }
          ],
          "carpet": [
           {
            "aaxis": {
             "endlinecolor": "#2a3f5f",
             "gridcolor": "white",
             "linecolor": "white",
             "minorgridcolor": "white",
             "startlinecolor": "#2a3f5f"
            },
            "baxis": {
             "endlinecolor": "#2a3f5f",
             "gridcolor": "white",
             "linecolor": "white",
             "minorgridcolor": "white",
             "startlinecolor": "#2a3f5f"
            },
            "type": "carpet"
           }
          ],
          "choropleth": [
           {
            "colorbar": {
             "outlinewidth": 0,
             "ticks": ""
            },
            "type": "choropleth"
           }
          ],
          "contour": [
           {
            "colorbar": {
             "outlinewidth": 0,
             "ticks": ""
            },
            "colorscale": [
             [
              0,
              "#0d0887"
             ],
             [
              0.1111111111111111,
              "#46039f"
             ],
             [
              0.2222222222222222,
              "#7201a8"
             ],
             [
              0.3333333333333333,
              "#9c179e"
             ],
             [
              0.4444444444444444,
              "#bd3786"
             ],
             [
              0.5555555555555556,
              "#d8576b"
             ],
             [
              0.6666666666666666,
              "#ed7953"
             ],
             [
              0.7777777777777778,
              "#fb9f3a"
             ],
             [
              0.8888888888888888,
              "#fdca26"
             ],
             [
              1,
              "#f0f921"
             ]
            ],
            "type": "contour"
           }
          ],
          "contourcarpet": [
           {
            "colorbar": {
             "outlinewidth": 0,
             "ticks": ""
            },
            "type": "contourcarpet"
           }
          ],
          "heatmap": [
           {
            "colorbar": {
             "outlinewidth": 0,
             "ticks": ""
            },
            "colorscale": [
             [
              0,
              "#0d0887"
             ],
             [
              0.1111111111111111,
              "#46039f"
             ],
             [
              0.2222222222222222,
              "#7201a8"
             ],
             [
              0.3333333333333333,
              "#9c179e"
             ],
             [
              0.4444444444444444,
              "#bd3786"
             ],
             [
              0.5555555555555556,
              "#d8576b"
             ],
             [
              0.6666666666666666,
              "#ed7953"
             ],
             [
              0.7777777777777778,
              "#fb9f3a"
             ],
             [
              0.8888888888888888,
              "#fdca26"
             ],
             [
              1,
              "#f0f921"
             ]
            ],
            "type": "heatmap"
           }
          ],
          "heatmapgl": [
           {
            "colorbar": {
             "outlinewidth": 0,
             "ticks": ""
            },
            "colorscale": [
             [
              0,
              "#0d0887"
             ],
             [
              0.1111111111111111,
              "#46039f"
             ],
             [
              0.2222222222222222,
              "#7201a8"
             ],
             [
              0.3333333333333333,
              "#9c179e"
             ],
             [
              0.4444444444444444,
              "#bd3786"
             ],
             [
              0.5555555555555556,
              "#d8576b"
             ],
             [
              0.6666666666666666,
              "#ed7953"
             ],
             [
              0.7777777777777778,
              "#fb9f3a"
             ],
             [
              0.8888888888888888,
              "#fdca26"
             ],
             [
              1,
              "#f0f921"
             ]
            ],
            "type": "heatmapgl"
           }
          ],
          "histogram": [
           {
            "marker": {
             "pattern": {
              "fillmode": "overlay",
              "size": 10,
              "solidity": 0.2
             }
            },
            "type": "histogram"
           }
          ],
          "histogram2d": [
           {
            "colorbar": {
             "outlinewidth": 0,
             "ticks": ""
            },
            "colorscale": [
             [
              0,
              "#0d0887"
             ],
             [
              0.1111111111111111,
              "#46039f"
             ],
             [
              0.2222222222222222,
              "#7201a8"
             ],
             [
              0.3333333333333333,
              "#9c179e"
             ],
             [
              0.4444444444444444,
              "#bd3786"
             ],
             [
              0.5555555555555556,
              "#d8576b"
             ],
             [
              0.6666666666666666,
              "#ed7953"
             ],
             [
              0.7777777777777778,
              "#fb9f3a"
             ],
             [
              0.8888888888888888,
              "#fdca26"
             ],
             [
              1,
              "#f0f921"
             ]
            ],
            "type": "histogram2d"
           }
          ],
          "histogram2dcontour": [
           {
            "colorbar": {
             "outlinewidth": 0,
             "ticks": ""
            },
            "colorscale": [
             [
              0,
              "#0d0887"
             ],
             [
              0.1111111111111111,
              "#46039f"
             ],
             [
              0.2222222222222222,
              "#7201a8"
             ],
             [
              0.3333333333333333,
              "#9c179e"
             ],
             [
              0.4444444444444444,
              "#bd3786"
             ],
             [
              0.5555555555555556,
              "#d8576b"
             ],
             [
              0.6666666666666666,
              "#ed7953"
             ],
             [
              0.7777777777777778,
              "#fb9f3a"
             ],
             [
              0.8888888888888888,
              "#fdca26"
             ],
             [
              1,
              "#f0f921"
             ]
            ],
            "type": "histogram2dcontour"
           }
          ],
          "mesh3d": [
           {
            "colorbar": {
             "outlinewidth": 0,
             "ticks": ""
            },
            "type": "mesh3d"
           }
          ],
          "parcoords": [
           {
            "line": {
             "colorbar": {
              "outlinewidth": 0,
              "ticks": ""
             }
            },
            "type": "parcoords"
           }
          ],
          "pie": [
           {
            "automargin": true,
            "type": "pie"
           }
          ],
          "scatter": [
           {
            "fillpattern": {
             "fillmode": "overlay",
             "size": 10,
             "solidity": 0.2
            },
            "type": "scatter"
           }
          ],
          "scatter3d": [
           {
            "line": {
             "colorbar": {
              "outlinewidth": 0,
              "ticks": ""
             }
            },
            "marker": {
             "colorbar": {
              "outlinewidth": 0,
              "ticks": ""
             }
            },
            "type": "scatter3d"
           }
          ],
          "scattercarpet": [
           {
            "marker": {
             "colorbar": {
              "outlinewidth": 0,
              "ticks": ""
             }
            },
            "type": "scattercarpet"
           }
          ],
          "scattergeo": [
           {
            "marker": {
             "colorbar": {
              "outlinewidth": 0,
              "ticks": ""
             }
            },
            "type": "scattergeo"
           }
          ],
          "scattergl": [
           {
            "marker": {
             "colorbar": {
              "outlinewidth": 0,
              "ticks": ""
             }
            },
            "type": "scattergl"
           }
          ],
          "scattermapbox": [
           {
            "marker": {
             "colorbar": {
              "outlinewidth": 0,
              "ticks": ""
             }
            },
            "type": "scattermapbox"
           }
          ],
          "scatterpolar": [
           {
            "marker": {
             "colorbar": {
              "outlinewidth": 0,
              "ticks": ""
             }
            },
            "type": "scatterpolar"
           }
          ],
          "scatterpolargl": [
           {
            "marker": {
             "colorbar": {
              "outlinewidth": 0,
              "ticks": ""
             }
            },
            "type": "scatterpolargl"
           }
          ],
          "scatterternary": [
           {
            "marker": {
             "colorbar": {
              "outlinewidth": 0,
              "ticks": ""
             }
            },
            "type": "scatterternary"
           }
          ],
          "surface": [
           {
            "colorbar": {
             "outlinewidth": 0,
             "ticks": ""
            },
            "colorscale": [
             [
              0,
              "#0d0887"
             ],
             [
              0.1111111111111111,
              "#46039f"
             ],
             [
              0.2222222222222222,
              "#7201a8"
             ],
             [
              0.3333333333333333,
              "#9c179e"
             ],
             [
              0.4444444444444444,
              "#bd3786"
             ],
             [
              0.5555555555555556,
              "#d8576b"
             ],
             [
              0.6666666666666666,
              "#ed7953"
             ],
             [
              0.7777777777777778,
              "#fb9f3a"
             ],
             [
              0.8888888888888888,
              "#fdca26"
             ],
             [
              1,
              "#f0f921"
             ]
            ],
            "type": "surface"
           }
          ],
          "table": [
           {
            "cells": {
             "fill": {
              "color": "#EBF0F8"
             },
             "line": {
              "color": "white"
             }
            },
            "header": {
             "fill": {
              "color": "#C8D4E3"
             },
             "line": {
              "color": "white"
             }
            },
            "type": "table"
           }
          ]
         },
         "layout": {
          "annotationdefaults": {
           "arrowcolor": "#2a3f5f",
           "arrowhead": 0,
           "arrowwidth": 1
          },
          "autotypenumbers": "strict",
          "coloraxis": {
           "colorbar": {
            "outlinewidth": 0,
            "ticks": ""
           }
          },
          "colorscale": {
           "diverging": [
            [
             0,
             "#8e0152"
            ],
            [
             0.1,
             "#c51b7d"
            ],
            [
             0.2,
             "#de77ae"
            ],
            [
             0.3,
             "#f1b6da"
            ],
            [
             0.4,
             "#fde0ef"
            ],
            [
             0.5,
             "#f7f7f7"
            ],
            [
             0.6,
             "#e6f5d0"
            ],
            [
             0.7,
             "#b8e186"
            ],
            [
             0.8,
             "#7fbc41"
            ],
            [
             0.9,
             "#4d9221"
            ],
            [
             1,
             "#276419"
            ]
           ],
           "sequential": [
            [
             0,
             "#0d0887"
            ],
            [
             0.1111111111111111,
             "#46039f"
            ],
            [
             0.2222222222222222,
             "#7201a8"
            ],
            [
             0.3333333333333333,
             "#9c179e"
            ],
            [
             0.4444444444444444,
             "#bd3786"
            ],
            [
             0.5555555555555556,
             "#d8576b"
            ],
            [
             0.6666666666666666,
             "#ed7953"
            ],
            [
             0.7777777777777778,
             "#fb9f3a"
            ],
            [
             0.8888888888888888,
             "#fdca26"
            ],
            [
             1,
             "#f0f921"
            ]
           ],
           "sequentialminus": [
            [
             0,
             "#0d0887"
            ],
            [
             0.1111111111111111,
             "#46039f"
            ],
            [
             0.2222222222222222,
             "#7201a8"
            ],
            [
             0.3333333333333333,
             "#9c179e"
            ],
            [
             0.4444444444444444,
             "#bd3786"
            ],
            [
             0.5555555555555556,
             "#d8576b"
            ],
            [
             0.6666666666666666,
             "#ed7953"
            ],
            [
             0.7777777777777778,
             "#fb9f3a"
            ],
            [
             0.8888888888888888,
             "#fdca26"
            ],
            [
             1,
             "#f0f921"
            ]
           ]
          },
          "colorway": [
           "#636efa",
           "#EF553B",
           "#00cc96",
           "#ab63fa",
           "#FFA15A",
           "#19d3f3",
           "#FF6692",
           "#B6E880",
           "#FF97FF",
           "#FECB52"
          ],
          "font": {
           "color": "#2a3f5f"
          },
          "geo": {
           "bgcolor": "white",
           "lakecolor": "white",
           "landcolor": "#E5ECF6",
           "showlakes": true,
           "showland": true,
           "subunitcolor": "white"
          },
          "hoverlabel": {
           "align": "left"
          },
          "hovermode": "closest",
          "mapbox": {
           "style": "light"
          },
          "paper_bgcolor": "white",
          "plot_bgcolor": "#E5ECF6",
          "polar": {
           "angularaxis": {
            "gridcolor": "white",
            "linecolor": "white",
            "ticks": ""
           },
           "bgcolor": "#E5ECF6",
           "radialaxis": {
            "gridcolor": "white",
            "linecolor": "white",
            "ticks": ""
           }
          },
          "scene": {
           "xaxis": {
            "backgroundcolor": "#E5ECF6",
            "gridcolor": "white",
            "gridwidth": 2,
            "linecolor": "white",
            "showbackground": true,
            "ticks": "",
            "zerolinecolor": "white"
           },
           "yaxis": {
            "backgroundcolor": "#E5ECF6",
            "gridcolor": "white",
            "gridwidth": 2,
            "linecolor": "white",
            "showbackground": true,
            "ticks": "",
            "zerolinecolor": "white"
           },
           "zaxis": {
            "backgroundcolor": "#E5ECF6",
            "gridcolor": "white",
            "gridwidth": 2,
            "linecolor": "white",
            "showbackground": true,
            "ticks": "",
            "zerolinecolor": "white"
           }
          },
          "shapedefaults": {
           "line": {
            "color": "#2a3f5f"
           }
          },
          "ternary": {
           "aaxis": {
            "gridcolor": "white",
            "linecolor": "white",
            "ticks": ""
           },
           "baxis": {
            "gridcolor": "white",
            "linecolor": "white",
            "ticks": ""
           },
           "bgcolor": "#E5ECF6",
           "caxis": {
            "gridcolor": "white",
            "linecolor": "white",
            "ticks": ""
           }
          },
          "title": {
           "x": 0.05
          },
          "xaxis": {
           "automargin": true,
           "gridcolor": "white",
           "linecolor": "white",
           "ticks": "",
           "title": {
            "standoff": 15
           },
           "zerolinecolor": "white",
           "zerolinewidth": 2
          },
          "yaxis": {
           "automargin": true,
           "gridcolor": "white",
           "linecolor": "white",
           "ticks": "",
           "title": {
            "standoff": 15
           },
           "zerolinecolor": "white",
           "zerolinewidth": 2
          }
         }
        },
        "title": {
         "text": "Histórico das Composições do PIB 2002 - 2021"
        },
        "xaxis": {
         "anchor": "y",
         "domain": [
          0,
          1
         ],
         "title": {
          "text": "Ano"
         }
        },
        "yaxis": {
         "anchor": "x",
         "domain": [
          0,
          1
         ],
         "title": {
          "text": "value"
         }
        }
       }
      },
      "text/html": [
       "<div>                            <div id=\"40b90c7d-30df-4b72-b84d-b930c64116de\" class=\"plotly-graph-div\" style=\"height:525px; width:100%;\"></div>            <script type=\"text/javascript\">                require([\"plotly\"], function(Plotly) {                    window.PLOTLYENV=window.PLOTLYENV || {};                                    if (document.getElementById(\"40b90c7d-30df-4b72-b84d-b930c64116de\")) {                    Plotly.newPlot(                        \"40b90c7d-30df-4b72-b84d-b930c64116de\",                        [{\"hovertemplate\":\"variable=Agropecuaria\\u003cbr\\u003eAno=%{x}\\u003cbr\\u003evalue=%{y}\\u003cextra\\u003e\\u003c\\u002fextra\\u003e\",\"legendgroup\":\"Agropecuaria\",\"line\":{\"color\":\"#636efa\",\"dash\":\"solid\"},\"marker\":{\"symbol\":\"circle\"},\"mode\":\"lines\",\"name\":\"Agropecuaria\",\"orientation\":\"v\",\"showlegend\":true,\"x\":[2002,2003,2004,2005,2006,2007,2008,2009,2010,2011,2012,2013,2014,2015,2016,2017,2018,2019,2020,2021],\"xaxis\":\"x\",\"y\":[0.08151519896600007,0.10594916497299975,0.11091270301200022,0.10095754703600061,0.10529401098099996,0.12015171499699977,0.14205118198299996,0.1492126349959998,0.15993200000299992,0.19002399999899972,0.20069499999799956,0.24028999997999992,0.24997500000599962,0.25896699994000016,0.3066550000019999,0.30297099998900034,0.30961100002499975,0.310714000014001,0.43462099996,0.5910849999939994],\"yaxis\":\"y\",\"type\":\"scatter\"},{\"hovertemplate\":\"variable=Industria\\u003cbr\\u003eAno=%{x}\\u003cbr\\u003evalue=%{y}\\u003cextra\\u003e\\u003c\\u002fextra\\u003e\",\"legendgroup\":\"Industria\",\"line\":{\"color\":\"#EF553B\",\"dash\":\"solid\"},\"marker\":{\"symbol\":\"circle\"},\"mode\":\"lines\",\"name\":\"Industria\",\"orientation\":\"v\",\"showlegend\":true,\"x\":[2002,2003,2004,2005,2006,2007,2008,2009,2010,2011,2012,2013,2014,2015,2016,2017,2018,2019,2020,2021],\"xaxis\":\"x\",\"y\":[0.3349075700070003,0.39656854301700223,0.4758632179999995,0.5246862440069988,0.567281406011999,0.6290711709920014,0.7179071860360001,0.7292220750139994,0.9041580000209978,1.011034000004001,1.0656819999999994,1.1316260000120026,1.1830939999919994,1.160787000022999,1.1507200000119977,1.1977999999830011,1.3132099999979967,1.3858040000160021,1.4843369999860019,1.993799000013002],\"yaxis\":\"y\",\"type\":\"scatter\"},{\"hovertemplate\":\"variable=Servicos\\u003cbr\\u003eAno=%{x}\\u003cbr\\u003evalue=%{y}\\u003cextra\\u003e\\u003c\\u002fextra\\u003e\",\"legendgroup\":\"Servicos\",\"line\":{\"color\":\"#00cc96\",\"dash\":\"solid\"},\"marker\":{\"symbol\":\"circle\"},\"mode\":\"lines\",\"name\":\"Servicos\",\"orientation\":\"v\",\"showlegend\":true,\"x\":[2002,2003,2004,2005,2006,2007,2008,2009,2010,2011,2012,2013,2014,2015,2016,2017,2018,2019,2020,2021],\"xaxis\":\"x\",\"y\":[0.6444032140449987,0.7325436840389987,0.8155275830339996,0.9220447049929985,1.043094774977998,1.1931952209870003,1.3322966590259975,1.4841493059419992,1.700905000023002,1.921343999999,2.1757810000150037,2.4356569999950035,2.7228569999570014,2.8502599999640026,3.0173259999910007,3.1701799999730094,3.342943999980995,3.5540750000069985,3.529078999999997,3.910158999995001],\"yaxis\":\"y\",\"type\":\"scatter\"},{\"hovertemplate\":\"variable=Governo\\u003cbr\\u003eAno=%{x}\\u003cbr\\u003evalue=%{y}\\u003cextra\\u003e\\u003c\\u002fextra\\u003e\",\"legendgroup\":\"Governo\",\"line\":{\"color\":\"#ab63fa\",\"dash\":\"solid\"},\"marker\":{\"symbol\":\"circle\"},\"mode\":\"lines\",\"name\":\"Governo\",\"orientation\":\"v\",\"showlegend\":true,\"x\":[2002,2003,2004,2005,2006,2007,2008,2009,2010,2011,2012,2013,2014,2015,2016,2017,2018,2019,2020,2021],\"xaxis\":\"x\",\"y\":[0.20938868401999985,0.2356558419930009,0.2596786189840011,0.2951299059539997,0.33361978603100023,0.3771101739849991,0.43422268902500094,0.4871788060059981,0.5378449999540006,0.5980590000169994,0.6521010000049978,0.7461870000269991,0.8168080000059997,0.8855869999510031,0.9451209999869973,1.0009749999709983,1.045384999979997,1.1060909999860005,1.1469000000169995,1.218956000025001],\"yaxis\":\"y\",\"type\":\"scatter\"}],                        {\"template\":{\"data\":{\"histogram2dcontour\":[{\"type\":\"histogram2dcontour\",\"colorbar\":{\"outlinewidth\":0,\"ticks\":\"\"},\"colorscale\":[[0.0,\"#0d0887\"],[0.1111111111111111,\"#46039f\"],[0.2222222222222222,\"#7201a8\"],[0.3333333333333333,\"#9c179e\"],[0.4444444444444444,\"#bd3786\"],[0.5555555555555556,\"#d8576b\"],[0.6666666666666666,\"#ed7953\"],[0.7777777777777778,\"#fb9f3a\"],[0.8888888888888888,\"#fdca26\"],[1.0,\"#f0f921\"]]}],\"choropleth\":[{\"type\":\"choropleth\",\"colorbar\":{\"outlinewidth\":0,\"ticks\":\"\"}}],\"histogram2d\":[{\"type\":\"histogram2d\",\"colorbar\":{\"outlinewidth\":0,\"ticks\":\"\"},\"colorscale\":[[0.0,\"#0d0887\"],[0.1111111111111111,\"#46039f\"],[0.2222222222222222,\"#7201a8\"],[0.3333333333333333,\"#9c179e\"],[0.4444444444444444,\"#bd3786\"],[0.5555555555555556,\"#d8576b\"],[0.6666666666666666,\"#ed7953\"],[0.7777777777777778,\"#fb9f3a\"],[0.8888888888888888,\"#fdca26\"],[1.0,\"#f0f921\"]]}],\"heatmap\":[{\"type\":\"heatmap\",\"colorbar\":{\"outlinewidth\":0,\"ticks\":\"\"},\"colorscale\":[[0.0,\"#0d0887\"],[0.1111111111111111,\"#46039f\"],[0.2222222222222222,\"#7201a8\"],[0.3333333333333333,\"#9c179e\"],[0.4444444444444444,\"#bd3786\"],[0.5555555555555556,\"#d8576b\"],[0.6666666666666666,\"#ed7953\"],[0.7777777777777778,\"#fb9f3a\"],[0.8888888888888888,\"#fdca26\"],[1.0,\"#f0f921\"]]}],\"heatmapgl\":[{\"type\":\"heatmapgl\",\"colorbar\":{\"outlinewidth\":0,\"ticks\":\"\"},\"colorscale\":[[0.0,\"#0d0887\"],[0.1111111111111111,\"#46039f\"],[0.2222222222222222,\"#7201a8\"],[0.3333333333333333,\"#9c179e\"],[0.4444444444444444,\"#bd3786\"],[0.5555555555555556,\"#d8576b\"],[0.6666666666666666,\"#ed7953\"],[0.7777777777777778,\"#fb9f3a\"],[0.8888888888888888,\"#fdca26\"],[1.0,\"#f0f921\"]]}],\"contourcarpet\":[{\"type\":\"contourcarpet\",\"colorbar\":{\"outlinewidth\":0,\"ticks\":\"\"}}],\"contour\":[{\"type\":\"contour\",\"colorbar\":{\"outlinewidth\":0,\"ticks\":\"\"},\"colorscale\":[[0.0,\"#0d0887\"],[0.1111111111111111,\"#46039f\"],[0.2222222222222222,\"#7201a8\"],[0.3333333333333333,\"#9c179e\"],[0.4444444444444444,\"#bd3786\"],[0.5555555555555556,\"#d8576b\"],[0.6666666666666666,\"#ed7953\"],[0.7777777777777778,\"#fb9f3a\"],[0.8888888888888888,\"#fdca26\"],[1.0,\"#f0f921\"]]}],\"surface\":[{\"type\":\"surface\",\"colorbar\":{\"outlinewidth\":0,\"ticks\":\"\"},\"colorscale\":[[0.0,\"#0d0887\"],[0.1111111111111111,\"#46039f\"],[0.2222222222222222,\"#7201a8\"],[0.3333333333333333,\"#9c179e\"],[0.4444444444444444,\"#bd3786\"],[0.5555555555555556,\"#d8576b\"],[0.6666666666666666,\"#ed7953\"],[0.7777777777777778,\"#fb9f3a\"],[0.8888888888888888,\"#fdca26\"],[1.0,\"#f0f921\"]]}],\"mesh3d\":[{\"type\":\"mesh3d\",\"colorbar\":{\"outlinewidth\":0,\"ticks\":\"\"}}],\"scatter\":[{\"fillpattern\":{\"fillmode\":\"overlay\",\"size\":10,\"solidity\":0.2},\"type\":\"scatter\"}],\"parcoords\":[{\"type\":\"parcoords\",\"line\":{\"colorbar\":{\"outlinewidth\":0,\"ticks\":\"\"}}}],\"scatterpolargl\":[{\"type\":\"scatterpolargl\",\"marker\":{\"colorbar\":{\"outlinewidth\":0,\"ticks\":\"\"}}}],\"bar\":[{\"error_x\":{\"color\":\"#2a3f5f\"},\"error_y\":{\"color\":\"#2a3f5f\"},\"marker\":{\"line\":{\"color\":\"#E5ECF6\",\"width\":0.5},\"pattern\":{\"fillmode\":\"overlay\",\"size\":10,\"solidity\":0.2}},\"type\":\"bar\"}],\"scattergeo\":[{\"type\":\"scattergeo\",\"marker\":{\"colorbar\":{\"outlinewidth\":0,\"ticks\":\"\"}}}],\"scatterpolar\":[{\"type\":\"scatterpolar\",\"marker\":{\"colorbar\":{\"outlinewidth\":0,\"ticks\":\"\"}}}],\"histogram\":[{\"marker\":{\"pattern\":{\"fillmode\":\"overlay\",\"size\":10,\"solidity\":0.2}},\"type\":\"histogram\"}],\"scattergl\":[{\"type\":\"scattergl\",\"marker\":{\"colorbar\":{\"outlinewidth\":0,\"ticks\":\"\"}}}],\"scatter3d\":[{\"type\":\"scatter3d\",\"line\":{\"colorbar\":{\"outlinewidth\":0,\"ticks\":\"\"}},\"marker\":{\"colorbar\":{\"outlinewidth\":0,\"ticks\":\"\"}}}],\"scattermapbox\":[{\"type\":\"scattermapbox\",\"marker\":{\"colorbar\":{\"outlinewidth\":0,\"ticks\":\"\"}}}],\"scatterternary\":[{\"type\":\"scatterternary\",\"marker\":{\"colorbar\":{\"outlinewidth\":0,\"ticks\":\"\"}}}],\"scattercarpet\":[{\"type\":\"scattercarpet\",\"marker\":{\"colorbar\":{\"outlinewidth\":0,\"ticks\":\"\"}}}],\"carpet\":[{\"aaxis\":{\"endlinecolor\":\"#2a3f5f\",\"gridcolor\":\"white\",\"linecolor\":\"white\",\"minorgridcolor\":\"white\",\"startlinecolor\":\"#2a3f5f\"},\"baxis\":{\"endlinecolor\":\"#2a3f5f\",\"gridcolor\":\"white\",\"linecolor\":\"white\",\"minorgridcolor\":\"white\",\"startlinecolor\":\"#2a3f5f\"},\"type\":\"carpet\"}],\"table\":[{\"cells\":{\"fill\":{\"color\":\"#EBF0F8\"},\"line\":{\"color\":\"white\"}},\"header\":{\"fill\":{\"color\":\"#C8D4E3\"},\"line\":{\"color\":\"white\"}},\"type\":\"table\"}],\"barpolar\":[{\"marker\":{\"line\":{\"color\":\"#E5ECF6\",\"width\":0.5},\"pattern\":{\"fillmode\":\"overlay\",\"size\":10,\"solidity\":0.2}},\"type\":\"barpolar\"}],\"pie\":[{\"automargin\":true,\"type\":\"pie\"}]},\"layout\":{\"autotypenumbers\":\"strict\",\"colorway\":[\"#636efa\",\"#EF553B\",\"#00cc96\",\"#ab63fa\",\"#FFA15A\",\"#19d3f3\",\"#FF6692\",\"#B6E880\",\"#FF97FF\",\"#FECB52\"],\"font\":{\"color\":\"#2a3f5f\"},\"hovermode\":\"closest\",\"hoverlabel\":{\"align\":\"left\"},\"paper_bgcolor\":\"white\",\"plot_bgcolor\":\"#E5ECF6\",\"polar\":{\"bgcolor\":\"#E5ECF6\",\"angularaxis\":{\"gridcolor\":\"white\",\"linecolor\":\"white\",\"ticks\":\"\"},\"radialaxis\":{\"gridcolor\":\"white\",\"linecolor\":\"white\",\"ticks\":\"\"}},\"ternary\":{\"bgcolor\":\"#E5ECF6\",\"aaxis\":{\"gridcolor\":\"white\",\"linecolor\":\"white\",\"ticks\":\"\"},\"baxis\":{\"gridcolor\":\"white\",\"linecolor\":\"white\",\"ticks\":\"\"},\"caxis\":{\"gridcolor\":\"white\",\"linecolor\":\"white\",\"ticks\":\"\"}},\"coloraxis\":{\"colorbar\":{\"outlinewidth\":0,\"ticks\":\"\"}},\"colorscale\":{\"sequential\":[[0.0,\"#0d0887\"],[0.1111111111111111,\"#46039f\"],[0.2222222222222222,\"#7201a8\"],[0.3333333333333333,\"#9c179e\"],[0.4444444444444444,\"#bd3786\"],[0.5555555555555556,\"#d8576b\"],[0.6666666666666666,\"#ed7953\"],[0.7777777777777778,\"#fb9f3a\"],[0.8888888888888888,\"#fdca26\"],[1.0,\"#f0f921\"]],\"sequentialminus\":[[0.0,\"#0d0887\"],[0.1111111111111111,\"#46039f\"],[0.2222222222222222,\"#7201a8\"],[0.3333333333333333,\"#9c179e\"],[0.4444444444444444,\"#bd3786\"],[0.5555555555555556,\"#d8576b\"],[0.6666666666666666,\"#ed7953\"],[0.7777777777777778,\"#fb9f3a\"],[0.8888888888888888,\"#fdca26\"],[1.0,\"#f0f921\"]],\"diverging\":[[0,\"#8e0152\"],[0.1,\"#c51b7d\"],[0.2,\"#de77ae\"],[0.3,\"#f1b6da\"],[0.4,\"#fde0ef\"],[0.5,\"#f7f7f7\"],[0.6,\"#e6f5d0\"],[0.7,\"#b8e186\"],[0.8,\"#7fbc41\"],[0.9,\"#4d9221\"],[1,\"#276419\"]]},\"xaxis\":{\"gridcolor\":\"white\",\"linecolor\":\"white\",\"ticks\":\"\",\"title\":{\"standoff\":15},\"zerolinecolor\":\"white\",\"automargin\":true,\"zerolinewidth\":2},\"yaxis\":{\"gridcolor\":\"white\",\"linecolor\":\"white\",\"ticks\":\"\",\"title\":{\"standoff\":15},\"zerolinecolor\":\"white\",\"automargin\":true,\"zerolinewidth\":2},\"scene\":{\"xaxis\":{\"backgroundcolor\":\"#E5ECF6\",\"gridcolor\":\"white\",\"linecolor\":\"white\",\"showbackground\":true,\"ticks\":\"\",\"zerolinecolor\":\"white\",\"gridwidth\":2},\"yaxis\":{\"backgroundcolor\":\"#E5ECF6\",\"gridcolor\":\"white\",\"linecolor\":\"white\",\"showbackground\":true,\"ticks\":\"\",\"zerolinecolor\":\"white\",\"gridwidth\":2},\"zaxis\":{\"backgroundcolor\":\"#E5ECF6\",\"gridcolor\":\"white\",\"linecolor\":\"white\",\"showbackground\":true,\"ticks\":\"\",\"zerolinecolor\":\"white\",\"gridwidth\":2}},\"shapedefaults\":{\"line\":{\"color\":\"#2a3f5f\"}},\"annotationdefaults\":{\"arrowcolor\":\"#2a3f5f\",\"arrowhead\":0,\"arrowwidth\":1},\"geo\":{\"bgcolor\":\"white\",\"landcolor\":\"#E5ECF6\",\"subunitcolor\":\"white\",\"showland\":true,\"showlakes\":true,\"lakecolor\":\"white\"},\"title\":{\"x\":0.05},\"mapbox\":{\"style\":\"light\"}}},\"xaxis\":{\"anchor\":\"y\",\"domain\":[0.0,1.0],\"title\":{\"text\":\"Ano\"}},\"yaxis\":{\"anchor\":\"x\",\"domain\":[0.0,1.0],\"title\":{\"text\":\"value\"}},\"legend\":{\"title\":{\"text\":\"variable\"},\"tracegroupgap\":0},\"title\":{\"text\":\"Hist\\u00f3rico das Composi\\u00e7\\u00f5es do PIB 2002 - 2021\"}},                        {\"responsive\": true}                    ).then(function(){\n",
       "                            \n",
       "var gd = document.getElementById('40b90c7d-30df-4b72-b84d-b930c64116de');\n",
       "var x = new MutationObserver(function (mutations, observer) {{\n",
       "        var display = window.getComputedStyle(gd).display;\n",
       "        if (!display || display === 'none') {{\n",
       "            console.log([gd, 'removed!']);\n",
       "            Plotly.purge(gd);\n",
       "            observer.disconnect();\n",
       "        }}\n",
       "}});\n",
       "\n",
       "// Listen for the removal of the full notebook cells\n",
       "var notebookContainer = gd.closest('#notebook-container');\n",
       "if (notebookContainer) {{\n",
       "    x.observe(notebookContainer, {childList: true});\n",
       "}}\n",
       "\n",
       "// Listen for the clearing of the current output cell\n",
       "var outputEl = gd.closest('.output');\n",
       "if (outputEl) {{\n",
       "    x.observe(outputEl, {childList: true});\n",
       "}}\n",
       "\n",
       "                        })                };                });            </script>        </div>"
      ]
     },
     "metadata": {},
     "output_type": "display_data"
    }
   ],
   "source": [
    "columns = [ 'Agropecuaria', 'Industria', 'Servicos', 'Governo']\n",
    "\n",
    "fig = px.line(g_pib, x=\"Ano\", y=columns,title= 'Histórico das Composições do PIB 2002 - 2021')\n",
    "fig.show()"
   ]
  },
  {
   "cell_type": "markdown",
   "metadata": {},
   "source": [
    "# ANAC"
   ]
  },
  {
   "cell_type": "markdown",
   "metadata": {},
   "source": [
    "## Importando os Dados\n"
   ]
  },
  {
   "cell_type": "code",
   "execution_count": 42,
   "metadata": {},
   "outputs": [
    {
     "data": {
      "text/plain": [
       "DataFrame[Ano: bigint, Mes: bigint, Empresa: string, Origem: string, Destino: string, Tarifa: string, Assentos: bigint, __index_level_0__: bigint]"
      ]
     },
     "execution_count": 42,
     "metadata": {},
     "output_type": "execute_result"
    }
   ],
   "source": [
    "\n",
    "raw_Anac = spark.read.parquet('/workspaces/TCC_MLaaS_PIB_ANAC/base_dados/PassagensAereas/BaseDados_PassagensAereas.parquet.gzip')\n",
    "\n",
    "raw_Anac"
   ]
  },
  {
   "cell_type": "markdown",
   "metadata": {},
   "source": [
    "## Explorando os Dados"
   ]
  },
  {
   "cell_type": "code",
   "execution_count": 43,
   "metadata": {},
   "outputs": [
    {
     "name": "stdout",
     "output_type": "stream",
     "text": [
      "root\n",
      " |-- Ano: long (nullable = true)\n",
      " |-- Mes: long (nullable = true)\n",
      " |-- Empresa: string (nullable = true)\n",
      " |-- Origem: string (nullable = true)\n",
      " |-- Destino: string (nullable = true)\n",
      " |-- Tarifa: string (nullable = true)\n",
      " |-- Assentos: long (nullable = true)\n",
      " |-- __index_level_0__: long (nullable = true)\n",
      "\n",
      "+----+---+-------+------+-------+------+--------+-----------------+\n",
      "| Ano|Mes|Empresa|Origem|Destino|Tarifa|Assentos|__index_level_0__|\n",
      "+----+---+-------+------+-------+------+--------+-----------------+\n",
      "|2002|  1|    GLO|  SBPA|   SBBR|397,00|      51|                0|\n",
      "|2002|  1|    GLO|  SBSV|   SBRF|272,00|       5|                1|\n",
      "|2002|  1|    GLO|  SBFL|   SBGL|223,00|     196|                2|\n",
      "|2002|  1|    GLO|  SBGL|   SBSP| 96,00|     615|                3|\n",
      "|2002|  1|    GLO|  SBGL|   SBRF|340,00|     297|                4|\n",
      "|2002|  1|    GLO|  SBSP|   SBFL|145,00|     189|                5|\n",
      "|2002|  1|    GLO|  SBBH|   SBBR|166,00|      37|                6|\n",
      "|2002|  1|    GLO|  SBPA|   SBSP|269,00|     184|                7|\n",
      "|2002|  1|    GLO|  SBSP|   SBBR|166,00|    4621|                8|\n",
      "|2002|  1|    GLO|  SBGL|   SBCT|217,00|       6|                9|\n",
      "|2002|  1|    GLO|  SBGL|   SBPA|228,00|     297|               10|\n",
      "|2002|  1|    GLO|  SBPA|   SBBR|295,00|      69|               11|\n",
      "|2002|  1|    GLO|  SBBR|   SBCT|299,00|      22|               12|\n",
      "|2002|  1|    GLO|  SBRF|   SBSV|154,00|      15|               13|\n",
      "|2002|  1|    GLO|  SBGL|   SBPA|309,00|     138|               14|\n",
      "|2002|  1|    GLO|  SBRF|   SBGL|302,00|     232|               15|\n",
      "|2002|  1|    GLO|  SBFL|   SBGL|310,00|      20|               16|\n",
      "|2002|  1|    GLO|  SBRF|   SBSV|197,00|       6|               17|\n",
      "|2002|  1|    GLO|  SBKP|   SBGL|204,00|      12|               18|\n",
      "|2002|  1|    GLO|  SBBR|   SBGL|238,00|     136|               19|\n",
      "+----+---+-------+------+-------+------+--------+-----------------+\n",
      "only showing top 20 rows\n",
      "\n"
     ]
    }
   ],
   "source": [
    "raw_Anac.printSchema()\n",
    "raw_Anac.show()\n"
   ]
  },
  {
   "cell_type": "markdown",
   "metadata": {},
   "source": [
    "O campo **Tarifa** está com o formato string, para alterar, será necessário substitir a \"*,*\" pelo \"*.*\" para mudar o formato da coluna para o tipo numérico."
   ]
  },
  {
   "cell_type": "markdown",
   "metadata": {},
   "source": [
    "## Tratamento dos Dados\n"
   ]
  },
  {
   "cell_type": "code",
   "execution_count": 44,
   "metadata": {},
   "outputs": [],
   "source": [
    "#Deletando a coluna desnecessária.\n",
    "raw_Anac = raw_Anac.drop('__index_level_0__')\n"
   ]
  },
  {
   "cell_type": "code",
   "execution_count": 45,
   "metadata": {},
   "outputs": [],
   "source": [
    "from pyspark.sql.functions import *"
   ]
  },
  {
   "cell_type": "code",
   "execution_count": 46,
   "metadata": {},
   "outputs": [],
   "source": [
    "# Substituindo virgula por ponto.\n",
    "raw_Anac = raw_Anac.withColumn('Tarifa',regexp_replace('Tarifa',',','.'))\n",
    "\n",
    "# Alterando o formato string pra Double\n",
    "anac = raw_Anac.withColumn('Tarifa',raw_Anac['Tarifa'].cast(DoubleType()).alias('Tarifa')) "
   ]
  },
  {
   "cell_type": "code",
   "execution_count": 47,
   "metadata": {},
   "outputs": [
    {
     "name": "stdout",
     "output_type": "stream",
     "text": [
      "root\n",
      " |-- Ano: long (nullable = true)\n",
      " |-- Mes: long (nullable = true)\n",
      " |-- Empresa: string (nullable = true)\n",
      " |-- Origem: string (nullable = true)\n",
      " |-- Destino: string (nullable = true)\n",
      " |-- Tarifa: double (nullable = true)\n",
      " |-- Assentos: long (nullable = true)\n",
      "\n"
     ]
    }
   ],
   "source": [
    "#Conferindo os formatos das colunas\n",
    "anac.printSchema()\n"
   ]
  },
  {
   "cell_type": "code",
   "execution_count": 48,
   "metadata": {},
   "outputs": [],
   "source": [
    "#Adicionando uma nova coluna multiplicando os valores das passagens com os assentos vendidos\n",
    "anac = anac.withColumn(\"Total\",col(\"Tarifa\")*col(\"Assentos\"))"
   ]
  },
  {
   "cell_type": "markdown",
   "metadata": {},
   "source": [
    "## Agrupando os Valores"
   ]
  },
  {
   "cell_type": "code",
   "execution_count": 49,
   "metadata": {},
   "outputs": [
    {
     "name": "stderr",
     "output_type": "stream",
     "text": [
      "                                                                                \r"
     ]
    }
   ],
   "source": [
    "g_assentos = anac.groupBy(\"Ano\")\\\n",
    "               .agg(round((F.max(\"Assentos\")/F.lit(1)),2).alias('max'),\\\n",
    "                    round((F.min('Assentos')/F.lit(1)),2).alias('min'),\n",
    "                    round((F.avg('Assentos')/F.lit(1)),2).alias('avg'),\n",
    "                    round((F.sum('Assentos')/F.lit(1)),2).alias('sum'))\\\n",
    "               .orderBy(\"Ano\", ascending=True)\\\n",
    "               .toPandas()"
   ]
  },
  {
   "cell_type": "code",
   "execution_count": 50,
   "metadata": {},
   "outputs": [
    {
     "name": "stderr",
     "output_type": "stream",
     "text": [
      "                                                                                \r"
     ]
    }
   ],
   "source": [
    "g_tarifas = anac.groupBy(\"Ano\")\\\n",
    "               .agg(round((F.max(\"Tarifa\")/F.lit(1)),2).alias('max'),\\\n",
    "                    round((F.min('Tarifa')/F.lit(1)),2).alias('min'),\n",
    "                    round((F.avg('Tarifa')/F.lit(1)),2).alias('avg'),\n",
    "                    round((F.sum('Total')/F.lit(1)),2).alias('Total'),\n",
    "                    round((F.count('Tarifa')/F.lit(1)),2).alias('count'))\\\n",
    "               .orderBy(\"Ano\", ascending=True)\\\n",
    "               .toPandas()"
   ]
  },
  {
   "cell_type": "markdown",
   "metadata": {},
   "source": [
    "## Plotando o Gráfico das Passagens Aéreas"
   ]
  },
  {
   "cell_type": "code",
   "execution_count": 51,
   "metadata": {},
   "outputs": [],
   "source": [
    "# Plotando Gráfico histórico dos valores das passagens aereas Brasileiras\n",
    "\n",
    "# fig = px.line(g_tarifas, x=\"Ano\", y=\"avg\", title=\"Histórico da Média dos Valores das Passagens Aéreas Brasileiras\")\n",
    "# fig.show()"
   ]
  },
  {
   "cell_type": "code",
   "execution_count": 52,
   "metadata": {},
   "outputs": [],
   "source": [
    "# fig = px.line(g_tarifas, x=\"Ano\", y='Total', title=\"Histórico Valor Total das Passagens Aéreas Brasileiras\")\n",
    "# fig.show()"
   ]
  },
  {
   "cell_type": "code",
   "execution_count": 53,
   "metadata": {},
   "outputs": [],
   "source": [
    "# fig = px.line(g_tarifas, x=\"Ano\", y='count', title=\"Histórico da Quantidade das Passagens Aéreas Brasileiras\")\n",
    "# fig.show()\n"
   ]
  },
  {
   "cell_type": "code",
   "execution_count": 54,
   "metadata": {},
   "outputs": [],
   "source": [
    "# fig = px.line(g_assentos, x=\"Ano\", y='sum', title=\"Histórico da Soma das Passagens Aéreas Brasileiras\")\n",
    "# fig.show()\n"
   ]
  },
  {
   "cell_type": "markdown",
   "metadata": {},
   "source": [
    "# Aerodromos"
   ]
  },
  {
   "cell_type": "markdown",
   "metadata": {},
   "source": [
    "## Lendo os Arquivos\n"
   ]
  },
  {
   "cell_type": "code",
   "execution_count": 55,
   "metadata": {},
   "outputs": [
    {
     "data": {
      "text/plain": [
       "DataFrame[OACI: string, CIAD: string, Nome: string, Municipio: string, UF: string, Tipo: string]"
      ]
     },
     "execution_count": 55,
     "metadata": {},
     "output_type": "execute_result"
    }
   ],
   "source": [
    "pistas = spark.read.csv('/workspaces/TCC_MLaaS_PIB_ANAC/base_dados/Aerodromos/Base_Pistas.csv',header=True)\n",
    "\n",
    "pistas"
   ]
  },
  {
   "cell_type": "markdown",
   "metadata": {},
   "source": [
    "## Explorando os Dados"
   ]
  },
  {
   "cell_type": "code",
   "execution_count": 56,
   "metadata": {},
   "outputs": [
    {
     "name": "stdout",
     "output_type": "stream",
     "text": [
      "+----+------+--------------------+--------------------+---+-------+\n",
      "|OACI|  CIAD|                Nome|           Municipio| UF|   Tipo|\n",
      "+----+------+--------------------+--------------------+---+-------+\n",
      "|SBAA|PA0008|CONCEIÇÃO DO ARAG...|CONCEIÇÃO DO ARAG...| PA|Publico|\n",
      "|SBAE|SP0010|       BAURU/AREALVA|               BAURU| SP|Publico|\n",
      "|SBAQ|SP0012|BARTOLOMEU DE GUSMÃO|          ARARAQUARA| SP|Publico|\n",
      "|SBAR|SE0001|         SANTA MARIA|             ARACAJU| SE|Publico|\n",
      "|SBAT|MT0003|PILOTO OSVALDO MA...|       ALTA FLORESTA| MT|Publico|\n",
      "|SBAU|SP0009|           ARAÇATUBA|           ARAÇATUBA| SP|Publico|\n",
      "|SBAX|MG0008|          ROMEU ZEMA|               ARAXÁ| MG|Publico|\n",
      "|SBBE|PA0001|INTERNACIONAL DE ...|               BELÉM| PA|Publico|\n",
      "|SBBG|RS0010|COMANDANTE GUSTAV...|                BAGÉ| RS|Publico|\n",
      "|SBBH|MG0003|PAMPULHA - CARLOS...|      BELO HORIZONTE| MG|Publico|\n",
      "|SBBI|PR0006|           BACACHERI|            CURITIBA| PR|Publico|\n",
      "|SBBP|SP0036|ESTADUAL ARTHUR S...|   BRAGANÇA PAULISTA| SP|Publico|\n",
      "|SBBR|DF0001|PRESIDENTE JUSCEL...|            BRASÍLIA| DF|Publico|\n",
      "|SBBU|SP0017|               BAURU|               BAURU| SP|Publico|\n",
      "|SBBV|RR0001|ATLAS BRASIL CANT...|           BOA VISTA| RR|Publico|\n",
      "|SBBW|MT0008|     BARRA DO GARÇAS|     BARRA DO GARÇAS| MT|Publico|\n",
      "|SBCA|PR0005|AEROPORTO REGIONA...|            CASCAVEL| PR|Publico|\n",
      "|SBCB|RJ0003|           CABO FRIO|           CABO FRIO| RJ|Publico|\n",
      "|SBCD|SC0006|PREFEITO DR. CARL...|             CAÇADOR| SC|Publico|\n",
      "|SBCF|MG0001|      TANCREDO NEVES|      BELO HORIZONTE| MG|Publico|\n",
      "+----+------+--------------------+--------------------+---+-------+\n",
      "only showing top 20 rows\n",
      "\n"
     ]
    }
   ],
   "source": [
    "pistas.show()"
   ]
  },
  {
   "cell_type": "markdown",
   "metadata": {},
   "source": [
    "## Realizando Join ANAC e Aerodromos"
   ]
  },
  {
   "cell_type": "code",
   "execution_count": 57,
   "metadata": {},
   "outputs": [],
   "source": [
    "from pyspark.sql.functions import desc"
   ]
  },
  {
   "cell_type": "code",
   "execution_count": 58,
   "metadata": {},
   "outputs": [
    {
     "name": "stdout",
     "output_type": "stream",
     "text": [
      "+----+---+-------+------+-------+------+--------+--------+\n",
      "| Ano|Mes|Empresa|Origem|Destino|Tarifa|Assentos|   Total|\n",
      "+----+---+-------+------+-------+------+--------+--------+\n",
      "|2002|  1|    GLO|  SBPA|   SBBR| 397.0|      51| 20247.0|\n",
      "|2002|  1|    GLO|  SBSV|   SBRF| 272.0|       5|  1360.0|\n",
      "|2002|  1|    GLO|  SBFL|   SBGL| 223.0|     196| 43708.0|\n",
      "|2002|  1|    GLO|  SBGL|   SBSP|  96.0|     615| 59040.0|\n",
      "|2002|  1|    GLO|  SBGL|   SBRF| 340.0|     297|100980.0|\n",
      "|2002|  1|    GLO|  SBSP|   SBFL| 145.0|     189| 27405.0|\n",
      "|2002|  1|    GLO|  SBBH|   SBBR| 166.0|      37|  6142.0|\n",
      "|2002|  1|    GLO|  SBPA|   SBSP| 269.0|     184| 49496.0|\n",
      "|2002|  1|    GLO|  SBSP|   SBBR| 166.0|    4621|767086.0|\n",
      "|2002|  1|    GLO|  SBGL|   SBCT| 217.0|       6|  1302.0|\n",
      "|2002|  1|    GLO|  SBGL|   SBPA| 228.0|     297| 67716.0|\n",
      "|2002|  1|    GLO|  SBPA|   SBBR| 295.0|      69| 20355.0|\n",
      "|2002|  1|    GLO|  SBBR|   SBCT| 299.0|      22|  6578.0|\n",
      "|2002|  1|    GLO|  SBRF|   SBSV| 154.0|      15|  2310.0|\n",
      "|2002|  1|    GLO|  SBGL|   SBPA| 309.0|     138| 42642.0|\n",
      "|2002|  1|    GLO|  SBRF|   SBGL| 302.0|     232| 70064.0|\n",
      "|2002|  1|    GLO|  SBFL|   SBGL| 310.0|      20|  6200.0|\n",
      "|2002|  1|    GLO|  SBRF|   SBSV| 197.0|       6|  1182.0|\n",
      "|2002|  1|    GLO|  SBKP|   SBGL| 204.0|      12|  2448.0|\n",
      "|2002|  1|    GLO|  SBBR|   SBGL| 238.0|     136| 32368.0|\n",
      "+----+---+-------+------+-------+------+--------+--------+\n",
      "only showing top 20 rows\n",
      "\n"
     ]
    }
   ],
   "source": [
    "anac_origem = anac\n",
    "anac_origem.show()"
   ]
  },
  {
   "cell_type": "code",
   "execution_count": 59,
   "metadata": {},
   "outputs": [
    {
     "name": "stdout",
     "output_type": "stream",
     "text": [
      "+----+---+-------+------+-------+------+--------+--------+----------------+---------+\n",
      "| Ano|Mes|Empresa|Origem|Destino|Tarifa|Assentos|   Total|Municipio_Origem|UF_Origem|\n",
      "+----+---+-------+------+-------+------+--------+--------+----------------+---------+\n",
      "|2002|  1|    GLO|  SBPA|   SBBR| 397.0|      51| 20247.0|    PORTO ALEGRE|       RS|\n",
      "|2002|  1|    GLO|  SBSV|   SBRF| 272.0|       5|  1360.0|        SALVADOR|       BA|\n",
      "|2002|  1|    GLO|  SBFL|   SBGL| 223.0|     196| 43708.0|   FLORIANÓPOLIS|       SC|\n",
      "|2002|  1|    GLO|  SBGL|   SBSP|  96.0|     615| 59040.0|  RIO DE JANEIRO|       RJ|\n",
      "|2002|  1|    GLO|  SBGL|   SBRF| 340.0|     297|100980.0|  RIO DE JANEIRO|       RJ|\n",
      "|2002|  1|    GLO|  SBSP|   SBFL| 145.0|     189| 27405.0|       SÃO PAULO|       SP|\n",
      "|2002|  1|    GLO|  SBBH|   SBBR| 166.0|      37|  6142.0|  BELO HORIZONTE|       MG|\n",
      "|2002|  1|    GLO|  SBPA|   SBSP| 269.0|     184| 49496.0|    PORTO ALEGRE|       RS|\n",
      "|2002|  1|    GLO|  SBSP|   SBBR| 166.0|    4621|767086.0|       SÃO PAULO|       SP|\n",
      "|2002|  1|    GLO|  SBGL|   SBCT| 217.0|       6|  1302.0|  RIO DE JANEIRO|       RJ|\n",
      "|2002|  1|    GLO|  SBGL|   SBPA| 228.0|     297| 67716.0|  RIO DE JANEIRO|       RJ|\n",
      "|2002|  1|    GLO|  SBPA|   SBBR| 295.0|      69| 20355.0|    PORTO ALEGRE|       RS|\n",
      "|2002|  1|    GLO|  SBBR|   SBCT| 299.0|      22|  6578.0|        BRASÍLIA|       DF|\n",
      "|2002|  1|    GLO|  SBRF|   SBSV| 154.0|      15|  2310.0|          RECIFE|       PE|\n",
      "|2002|  1|    GLO|  SBGL|   SBPA| 309.0|     138| 42642.0|  RIO DE JANEIRO|       RJ|\n",
      "|2002|  1|    GLO|  SBRF|   SBGL| 302.0|     232| 70064.0|          RECIFE|       PE|\n",
      "|2002|  1|    GLO|  SBFL|   SBGL| 310.0|      20|  6200.0|   FLORIANÓPOLIS|       SC|\n",
      "|2002|  1|    GLO|  SBRF|   SBSV| 197.0|       6|  1182.0|          RECIFE|       PE|\n",
      "|2002|  1|    GLO|  SBKP|   SBGL| 204.0|      12|  2448.0|        CAMPINAS|       SP|\n",
      "|2002|  1|    GLO|  SBBR|   SBGL| 238.0|     136| 32368.0|        BRASÍLIA|       DF|\n",
      "+----+---+-------+------+-------+------+--------+--------+----------------+---------+\n",
      "only showing top 20 rows\n",
      "\n"
     ]
    }
   ],
   "source": [
    "# Join das cidades de Origem com base nos aeroportos.\n",
    "\n",
    "anac_origem = (anac\\\n",
    "    .join(pistas,anac.Origem == pistas.OACI,'inner')\\\n",
    "        .drop(\"OACI\", \"CIAD\",\"Nome\",\"Tipo\")\\\n",
    "            .withColumnRenamed(\"Municipio\",\"Municipio_Origem\")\n",
    "            .withColumnRenamed(\"UF\",\"UF_Origem\")\n",
    ")\n",
    "anac_origem.show()"
   ]
  },
  {
   "cell_type": "code",
   "execution_count": 60,
   "metadata": {},
   "outputs": [
    {
     "name": "stdout",
     "output_type": "stream",
     "text": [
      "+----+---+-------+------+-------+------+--------+--------+----------------+---------+-----------------+----------+\n",
      "| Ano|Mes|Empresa|Origem|Destino|Tarifa|Assentos|   Total|Municipio_Origem|UF_Origem|Municipio_Destino|UF_Destino|\n",
      "+----+---+-------+------+-------+------+--------+--------+----------------+---------+-----------------+----------+\n",
      "|2002|  1|    GLO|  SBPA|   SBBR| 397.0|      51| 20247.0|    PORTO ALEGRE|       RS|         BRASÍLIA|        DF|\n",
      "|2002|  1|    GLO|  SBSV|   SBRF| 272.0|       5|  1360.0|        SALVADOR|       BA|           RECIFE|        PE|\n",
      "|2002|  1|    GLO|  SBFL|   SBGL| 223.0|     196| 43708.0|   FLORIANÓPOLIS|       SC|   RIO DE JANEIRO|        RJ|\n",
      "|2002|  1|    GLO|  SBGL|   SBSP|  96.0|     615| 59040.0|  RIO DE JANEIRO|       RJ|        SÃO PAULO|        SP|\n",
      "|2002|  1|    GLO|  SBGL|   SBRF| 340.0|     297|100980.0|  RIO DE JANEIRO|       RJ|           RECIFE|        PE|\n",
      "|2002|  1|    GLO|  SBSP|   SBFL| 145.0|     189| 27405.0|       SÃO PAULO|       SP|    FLORIANÓPOLIS|        SC|\n",
      "|2002|  1|    GLO|  SBBH|   SBBR| 166.0|      37|  6142.0|  BELO HORIZONTE|       MG|         BRASÍLIA|        DF|\n",
      "|2002|  1|    GLO|  SBPA|   SBSP| 269.0|     184| 49496.0|    PORTO ALEGRE|       RS|        SÃO PAULO|        SP|\n",
      "|2002|  1|    GLO|  SBSP|   SBBR| 166.0|    4621|767086.0|       SÃO PAULO|       SP|         BRASÍLIA|        DF|\n",
      "|2002|  1|    GLO|  SBGL|   SBCT| 217.0|       6|  1302.0|  RIO DE JANEIRO|       RJ|         CURITIBA|        PR|\n",
      "|2002|  1|    GLO|  SBGL|   SBPA| 228.0|     297| 67716.0|  RIO DE JANEIRO|       RJ|     PORTO ALEGRE|        RS|\n",
      "|2002|  1|    GLO|  SBPA|   SBBR| 295.0|      69| 20355.0|    PORTO ALEGRE|       RS|         BRASÍLIA|        DF|\n",
      "|2002|  1|    GLO|  SBBR|   SBCT| 299.0|      22|  6578.0|        BRASÍLIA|       DF|         CURITIBA|        PR|\n",
      "|2002|  1|    GLO|  SBRF|   SBSV| 154.0|      15|  2310.0|          RECIFE|       PE|         SALVADOR|        BA|\n",
      "|2002|  1|    GLO|  SBGL|   SBPA| 309.0|     138| 42642.0|  RIO DE JANEIRO|       RJ|     PORTO ALEGRE|        RS|\n",
      "|2002|  1|    GLO|  SBRF|   SBGL| 302.0|     232| 70064.0|          RECIFE|       PE|   RIO DE JANEIRO|        RJ|\n",
      "|2002|  1|    GLO|  SBFL|   SBGL| 310.0|      20|  6200.0|   FLORIANÓPOLIS|       SC|   RIO DE JANEIRO|        RJ|\n",
      "|2002|  1|    GLO|  SBRF|   SBSV| 197.0|       6|  1182.0|          RECIFE|       PE|         SALVADOR|        BA|\n",
      "|2002|  1|    GLO|  SBKP|   SBGL| 204.0|      12|  2448.0|        CAMPINAS|       SP|   RIO DE JANEIRO|        RJ|\n",
      "|2002|  1|    GLO|  SBBR|   SBGL| 238.0|     136| 32368.0|        BRASÍLIA|       DF|   RIO DE JANEIRO|        RJ|\n",
      "+----+---+-------+------+-------+------+--------+--------+----------------+---------+-----------------+----------+\n",
      "only showing top 20 rows\n",
      "\n"
     ]
    }
   ],
   "source": [
    "df_anac = (anac_origem\\\n",
    "    .join(pistas,anac_origem.Destino == pistas.OACI,'inner')\\\n",
    "        .drop(\"OACI\", \"CIAD\",\"Nome\",\"Tipo\")\\\n",
    "            .withColumnRenamed(\"Municipio\",\"Municipio_Destino\")\n",
    "            .withColumnRenamed(\"UF\",\"UF_Destino\")\n",
    ")\n",
    "df_anac.show()"
   ]
  },
  {
   "cell_type": "code",
   "execution_count": 61,
   "metadata": {},
   "outputs": [
    {
     "name": "stdout",
     "output_type": "stream",
     "text": [
      "+----+---+-------+------+-------+------+--------+--------+----------------+---------+-----------------+----------+\n",
      "| Ano|Mes|Empresa|Origem|Destino|Tarifa|Assentos|   Total|Municipio_Origem|UF_Origem|Municipio_Destino|UF_Destino|\n",
      "+----+---+-------+------+-------+------+--------+--------+----------------+---------+-----------------+----------+\n",
      "|2002|  1|    GLO|  SBPA|   SBBR| 397.0|      51| 20247.0|    PORTO ALEGRE|       RS|         BRASÍLIA|        DF|\n",
      "|2002|  1|    GLO|  SBSV|   SBRF| 272.0|       5|  1360.0|        SALVADOR|       BA|           RECIFE|        PE|\n",
      "|2002|  1|    GLO|  SBFL|   SBGL| 223.0|     196| 43708.0|   FLORIANÓPOLIS|       SC|   RIO DE JANEIRO|        RJ|\n",
      "|2002|  1|    GLO|  SBGL|   SBSP|  96.0|     615| 59040.0|  RIO DE JANEIRO|       RJ|        SÃO PAULO|        SP|\n",
      "|2002|  1|    GLO|  SBGL|   SBRF| 340.0|     297|100980.0|  RIO DE JANEIRO|       RJ|           RECIFE|        PE|\n",
      "|2002|  1|    GLO|  SBSP|   SBFL| 145.0|     189| 27405.0|       SÃO PAULO|       SP|    FLORIANÓPOLIS|        SC|\n",
      "|2002|  1|    GLO|  SBBH|   SBBR| 166.0|      37|  6142.0|  BELO HORIZONTE|       MG|         BRASÍLIA|        DF|\n",
      "|2002|  1|    GLO|  SBPA|   SBSP| 269.0|     184| 49496.0|    PORTO ALEGRE|       RS|        SÃO PAULO|        SP|\n",
      "|2002|  1|    GLO|  SBSP|   SBBR| 166.0|    4621|767086.0|       SÃO PAULO|       SP|         BRASÍLIA|        DF|\n",
      "|2002|  1|    GLO|  SBGL|   SBCT| 217.0|       6|  1302.0|  RIO DE JANEIRO|       RJ|         CURITIBA|        PR|\n",
      "|2002|  1|    GLO|  SBGL|   SBPA| 228.0|     297| 67716.0|  RIO DE JANEIRO|       RJ|     PORTO ALEGRE|        RS|\n",
      "|2002|  1|    GLO|  SBPA|   SBBR| 295.0|      69| 20355.0|    PORTO ALEGRE|       RS|         BRASÍLIA|        DF|\n",
      "|2002|  1|    GLO|  SBBR|   SBCT| 299.0|      22|  6578.0|        BRASÍLIA|       DF|         CURITIBA|        PR|\n",
      "|2002|  1|    GLO|  SBRF|   SBSV| 154.0|      15|  2310.0|          RECIFE|       PE|         SALVADOR|        BA|\n",
      "|2002|  1|    GLO|  SBGL|   SBPA| 309.0|     138| 42642.0|  RIO DE JANEIRO|       RJ|     PORTO ALEGRE|        RS|\n",
      "|2002|  1|    GLO|  SBRF|   SBGL| 302.0|     232| 70064.0|          RECIFE|       PE|   RIO DE JANEIRO|        RJ|\n",
      "|2002|  1|    GLO|  SBFL|   SBGL| 310.0|      20|  6200.0|   FLORIANÓPOLIS|       SC|   RIO DE JANEIRO|        RJ|\n",
      "|2002|  1|    GLO|  SBRF|   SBSV| 197.0|       6|  1182.0|          RECIFE|       PE|         SALVADOR|        BA|\n",
      "|2002|  1|    GLO|  SBKP|   SBGL| 204.0|      12|  2448.0|        CAMPINAS|       SP|   RIO DE JANEIRO|        RJ|\n",
      "|2002|  1|    GLO|  SBBR|   SBGL| 238.0|     136| 32368.0|        BRASÍLIA|       DF|   RIO DE JANEIRO|        RJ|\n",
      "+----+---+-------+------+-------+------+--------+--------+----------------+---------+-----------------+----------+\n",
      "only showing top 20 rows\n",
      "\n"
     ]
    }
   ],
   "source": [
    "df_anac.show()"
   ]
  },
  {
   "cell_type": "code",
   "execution_count": 62,
   "metadata": {},
   "outputs": [
    {
     "name": "stdout",
     "output_type": "stream",
     "text": [
      "+----+---+-------+------+-------+------+--------+-------+----------------+---------+-----------------+----------+\n",
      "| Ano|Mes|Empresa|Origem|Destino|Tarifa|Assentos|  Total|Municipio_Origem|UF_Origem|Municipio_Destino|UF_Destino|\n",
      "+----+---+-------+------+-------+------+--------+-------+----------------+---------+-----------------+----------+\n",
      "|2002|  1|    GLO|  SBPA|   SBBR| 397.0|      51|20247.0|    PORTO ALEGRE|       RS|         BRASÍLIA|        DF|\n",
      "|2002|  1|    GLO|  SBSV|   SBRF| 272.0|       5| 1360.0|        SALVADOR|       BA|           RECIFE|        PE|\n",
      "|2002|  1|    GLO|  SBFL|   SBGL| 223.0|     196|43708.0|   FLORIANÓPOLIS|       SC|   RIO DE JANEIRO|        RJ|\n",
      "|2002|  1|    GLO|  SBGL|   SBSP|  96.0|     615|59040.0|  RIO DE JANEIRO|       RJ|        SÃO PAULO|        SP|\n",
      "+----+---+-------+------+-------+------+--------+-------+----------------+---------+-----------------+----------+\n",
      "only showing top 4 rows\n",
      "\n"
     ]
    }
   ],
   "source": [
    "df_anac.show(4)"
   ]
  },
  {
   "cell_type": "code",
   "execution_count": 63,
   "metadata": {},
   "outputs": [
    {
     "name": "stderr",
     "output_type": "stream",
     "text": [
      "[Stage 95:>                                                         (0 + 2) / 3]\r"
     ]
    },
    {
     "name": "stdout",
     "output_type": "stream",
     "text": [
      "+----+----------------+-----------------+------+----------------+\n",
      "| Ano|Municipio_Origem|Municipio_Destino| Total|Municipio_Origem|\n",
      "+----+----------------+-----------------+------+----------------+\n",
      "|2014|       SÃO PAULO|   RIO DE JANEIRO|369.98|         39529.0|\n",
      "|2014|  RIO DE JANEIRO|        SÃO PAULO|366.41|         38604.0|\n",
      "|2014|          RECIFE|        GUARULHOS|209.83|         17288.0|\n",
      "|2014|       GUARULHOS|           RECIFE|204.86|         16213.0|\n",
      "|2014|        SALVADOR|        GUARULHOS|200.67|         21864.0|\n",
      "+----+----------------+-----------------+------+----------------+\n",
      "only showing top 5 rows\n",
      "\n"
     ]
    },
    {
     "name": "stderr",
     "output_type": "stream",
     "text": [
      "                                                                                \r"
     ]
    }
   ],
   "source": [
    "df_anac.filter(df_anac.Ano==2014)\\\n",
    "    .groupBy(\"Ano\",\"Municipio_Origem\",\"Municipio_Destino\")\\\n",
    "                    .agg(round((F.sum('Total')/F.lit(1_000_000)),2).alias('Total'),\\\n",
    "                        # round((F.count('Municipio_Origem')/F.lit(1)),2).alias('Municipio_Origem'),\\\n",
    "                        round((F.count('Municipio_Origem')/F.lit(1)),2).alias('Municipio_Origem')\\\n",
    "                    )\\\n",
    "                .orderBy(\"Total\", ascending=False).show(5)\n",
    "                #    .toPandas()\n",
    " "
   ]
  },
  {
   "cell_type": "code",
   "execution_count": 64,
   "metadata": {},
   "outputs": [
    {
     "name": "stderr",
     "output_type": "stream",
     "text": [
      "[Stage 99:>                                                         (0 + 2) / 3]\r"
     ]
    },
    {
     "name": "stdout",
     "output_type": "stream",
     "text": [
      "+----+----------------+-----------------+------+----------------+\n",
      "| Ano|Municipio_Origem|Municipio_Destino| Total|Municipio_Origem|\n",
      "+----+----------------+-----------------+------+----------------+\n",
      "|2015|       SÃO PAULO|   RIO DE JANEIRO|324.95|         60465.0|\n",
      "|2015|  RIO DE JANEIRO|        SÃO PAULO|319.93|         57706.0|\n",
      "|2015|          RECIFE|        GUARULHOS|195.04|         23111.0|\n",
      "|2015|       GUARULHOS|           RECIFE|191.53|         22394.0|\n",
      "|2015|        SALVADOR|        GUARULHOS|175.54|         25956.0|\n",
      "+----+----------------+-----------------+------+----------------+\n",
      "only showing top 5 rows\n",
      "\n"
     ]
    },
    {
     "name": "stderr",
     "output_type": "stream",
     "text": [
      "                                                                                \r"
     ]
    }
   ],
   "source": [
    "df_anac.filter(df_anac.Ano==2015)\\\n",
    "    .groupBy(\"Ano\",\"Municipio_Origem\",\"Municipio_Destino\")\\\n",
    "                    .agg(round((F.sum('Total')/F.lit(1_000_000)),2).alias('Total'),\\\n",
    "                        # round((F.count('Municipio_Origem')/F.lit(1)),2).alias('Municipio_Origem'),\\\n",
    "                        round((F.count('Municipio_Origem')/F.lit(1)),2).alias('Municipio_Origem')\\\n",
    "                    )\\\n",
    "                .orderBy(\"Total\", ascending=False).show(5)\n",
    "                #    .toPandas()\n",
    " "
   ]
  },
  {
   "cell_type": "code",
   "execution_count": 65,
   "metadata": {},
   "outputs": [
    {
     "name": "stderr",
     "output_type": "stream",
     "text": [
      "                                                                                \r"
     ]
    }
   ],
   "source": [
    "g_assentos = anac.groupBy(\"Ano\")\\\n",
    "               .agg(round((F.max(\"Assentos\")/F.lit(1)),2).alias('max'),\\\n",
    "                    round((F.min('Assentos')/F.lit(1)),2).alias('min'),\n",
    "                    round((F.avg('Assentos')/F.lit(1)),2).alias('avg'),\n",
    "                    round((F.sum('Assentos')/F.lit(1)),2).alias('sum'))\\\n",
    "               .orderBy(\"Ano\", ascending=True)\\\n",
    "               .toPandas()"
   ]
  }
 ],
 "metadata": {
  "kernelspec": {
   "display_name": "Python 3",
   "language": "python",
   "name": "python3"
  },
  "language_info": {
   "codemirror_mode": {
    "name": "ipython",
    "version": 3
   },
   "file_extension": ".py",
   "mimetype": "text/x-python",
   "name": "python",
   "nbconvert_exporter": "python",
   "pygments_lexer": "ipython3",
   "version": "3.10.13"
  }
 },
 "nbformat": 4,
 "nbformat_minor": 2
}
